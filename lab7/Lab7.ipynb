{
 "cells": [
  {
   "cell_type": "code",
   "execution_count": null,
   "id": "598fb637",
   "metadata": {
    "deletable": false,
    "editable": false
   },
   "outputs": [],
   "source": [
    "# Initialize Otter\n",
    "import otter\n",
    "grader = otter.Notebook(\"Lab7.ipynb\")"
   ]
  },
  {
   "cell_type": "markdown",
   "id": "9411f8ba-c707-477b-b0e3-a87d137af9af",
   "metadata": {},
   "source": [
    "# **ESS 314: LAB 7**\n",
    "## Magnetics\n",
    "\n",
    "**For this lab, you will need to submit this .ipynb file to the GradeScope as usual.** "
   ]
  },
  {
   "cell_type": "markdown",
   "id": "6480073a",
   "metadata": {},
   "source": [
    "### ⚠️Before we get started, let's upgrade the Harmonica to have some of the new developed feature that is required for the lab. Run the cell below."
   ]
  },
  {
   "cell_type": "code",
   "execution_count": null,
   "id": "bed19596",
   "metadata": {},
   "outputs": [],
   "source": [
    "!pip install git+https://github.com/fatiando/harmonica.git@c677dfa --upgrade"
   ]
  },
  {
   "cell_type": "markdown",
   "id": "8f78a981",
   "metadata": {},
   "source": [
    "### ⚠️Make sure you are seeing a version: 'v0.6.0.post33+gc677dfa' below"
   ]
  },
  {
   "cell_type": "code",
   "execution_count": null,
   "id": "d322159d",
   "metadata": {},
   "outputs": [],
   "source": [
    "import numpy as np\n",
    "import matplotlib.pyplot as plt\n",
    "import verde as vd\n",
    "import pandas as pd\n",
    "\n",
    "import harmonica as hm\n",
    "hm.__version__"
   ]
  },
  {
   "cell_type": "markdown",
   "id": "d4773d05-aab6-4df1-9e21-fea82dc534c8",
   "metadata": {},
   "source": [
    "---\n",
    "Today we will look at some magnetic data. The magnetic method is quite complicated, so first we will do a few exercises to improve our understanding of the Earth’s magnetic field.\n",
    "\n",
    "The intensity of the Earth’s magnetic field at some location on the Earth’s surface can be written as a vector $F_{E}$, defined by its inclination i (the angle the vector makes with a horizontal plane) and its declination d (the horizontal angle from geographic north). **Figure 1** below illustrates these concepts. If you find **Figure 1** a little confusing, then **Figure 2** below illustrates these concepts in a different way using a compass needle. Note that Z is positive down."
   ]
  },
  {
   "cell_type": "markdown",
   "id": "9d39341e",
   "metadata": {},
   "source": [
    "![](Fig1.png)\n",
    " <center> **Figure 1.** Diagram illustrating vector FE and its constituent vectors, along with declination and inclination angles d and i, respectively."
   ]
  },
  {
   "cell_type": "markdown",
   "id": "d29f3419-0e86-4b5e-b2ae-dd993e88ed71",
   "metadata": {},
   "source": [
    "![](Fig2.png)\n",
    "**Figure 2.** Representation of vector FE and its constituent vectors, along with declination and inclination angles d and i, respectively, using a compass schematic."
   ]
  },
  {
   "cell_type": "markdown",
   "id": "be4107b5-dbe0-4ddd-bbc2-3281f0544416",
   "metadata": {},
   "source": [
    "The total magnetic field can be broken down into its horizontal $H_E$ and vertical $Z_E$ components and be represented as\n",
    "\n",
    "$$F_E = \\sqrt{ (H_E)^2 + (Z_E)^2  }.$$ <div style=\"text-align: right\"> (1) </div>\n",
    "    \n",
    "$H_E$ can be further resolved into northward and eastward components ($X_E$ and $Y_E$, respectively):\n",
    "\n",
    "$$H_E = \\sqrt{ (X_E)^2 + (Y_E)^2  }.$$ <div style=\"text-align: right\"> (2) </div>\n",
    "    \n",
    "Combining equations (1) and (2), one can represent the magnetic field using\n",
    "    \n",
    "$$F_E = \\sqrt{ (X_E)^2 + (Y_E)^2 + (Z_E)^2 }.$$ <div style=\"text-align: right\"> (3) </div>\n"
   ]
  },
  {
   "cell_type": "markdown",
   "id": "9b1f51ea-5a62-480b-a3c6-4e4076de5ad0",
   "metadata": {
    "deletable": false,
    "editable": false
   },
   "source": [
    "<!-- BEGIN QUESTION -->\n",
    "\n",
    "🧭**Question 1:** \n",
    "Use simple trigonometry to derive the following formulas. We will do the expression for $H_E$ together in lab. Use the previous cell to learn how to write equations in Markdown. Markdown follows the LateX conventions. Enter an equation within the ``$ $`` to enter the mathematical environment, and follow LateX guidelines for the notations (operators, greek letters, powers and indices, fractions, roots, sums and integrals, brackets, ...) (https://en.wikibooks.org/wiki/LaTeX/Mathematics)\n",
    "\n",
    "🧭a. Express $H_E$ and $Z_E$ in terms of the angle of inclination $i$ and the total field magnitude ($F_E$). (1 point)"
   ]
  },
  {
   "cell_type": "markdown",
   "id": "5fae3756",
   "metadata": {},
   "source": [
    "_Type your answer here, replacing this text._"
   ]
  },
  {
   "cell_type": "markdown",
   "id": "1490e420",
   "metadata": {
    "deletable": false,
    "editable": false
   },
   "source": [
    "<!-- END QUESTION -->\n",
    "\n",
    "<!-- BEGIN QUESTION -->\n",
    "\n",
    "🧭b. Express $X_E$ and $Y_E$ in terms of the total field magnitude ($F_E$) and the angles of inclination ($i$) and declination ($d$). (1 point)"
   ]
  },
  {
   "cell_type": "markdown",
   "id": "ab63526b",
   "metadata": {},
   "source": [
    "_Type your answer here, replacing this text._"
   ]
  },
  {
   "cell_type": "markdown",
   "id": "0abe1c84",
   "metadata": {
    "deletable": false,
    "editable": false
   },
   "source": [
    "<!-- END QUESTION -->\n",
    "\n",
    "🧭c. Assume the magnetic field vector is ($X_E$, $Y_E$, $Z_E$) = (4, 1, 1). Calculate the inclination ($i$) and declination ($d$) using the formulas you derived above. **Express your answer in degree.** (2 points)"
   ]
  },
  {
   "cell_type": "code",
   "execution_count": null,
   "id": "3be6a740",
   "metadata": {
    "tags": []
   },
   "outputs": [],
   "source": [
    "# Type your answer here, replacing \"...\" with your answer\n",
    "inc = ... \n",
    "dec = ...\n",
    "print(\"The inclination is %.4f degree.\" % inc)\n",
    "print(\"The declination is %.4f degree.\" % dec)"
   ]
  },
  {
   "cell_type": "code",
   "execution_count": null,
   "id": "16f74f55",
   "metadata": {
    "deletable": false,
    "editable": false
   },
   "outputs": [],
   "source": [
    "grader.check(\"q1c\")"
   ]
  },
  {
   "cell_type": "markdown",
   "id": "9f6106aa-715f-4a65-846a-ff309195ff36",
   "metadata": {},
   "source": [
    "If the magnetic field of the earth could be produced by a simple north-south dipole (**Figure 3**), then inclination would be 0° anywhere along the equator, 90° (down) at the north pole and -90° (up) at the south pole."
   ]
  },
  {
   "cell_type": "markdown",
   "id": "5931743f-595a-4da8-ac7f-da1f6ac2112f",
   "metadata": {},
   "source": [
    "![](Fig3.png)\n",
    "**Figure 3.** The magnetic field around a sphere produced by a dipole."
   ]
  },
  {
   "cell_type": "markdown",
   "id": "a5f641c6-3e4d-493c-8e61-4ddb37abe8bc",
   "metadata": {},
   "source": [
    "However, the Earth’s magnetic field is imperfect. The magnetic equator (where i = 0°) is\n",
    "irregular (**Figure 4**). Additionally, the inclination is ±90° at the north and south magnetic poles.\n",
    "This is why **magnetic north does not equal true north.** "
   ]
  },
  {
   "cell_type": "markdown",
   "id": "ae9b4479-5ac7-48c9-a97f-e1929395f33c",
   "metadata": {},
   "source": [
    "![](Fig4.png)\n",
    "**Figure 4.** Global magnetic inclination values. Source: https://www.ngdc.noaa.gov/geomag/WMM/"
   ]
  },
  {
   "cell_type": "markdown",
   "id": "fa4e7dd6-4a95-429e-8f39-6f7d237ee1d0",
   "metadata": {},
   "source": [
    "Therefore, while the Earth’s magnetic field is not perfect, it is close and is often approximated by a magnetic field produced by a dipole tilted 11.5° to the Earth’s axis of rotation. This reproduces 90% of the Earth’s magnetic field, and we can use this approximation for the vertical and horizontal components of the magnetic field at some point."
   ]
  },
  {
   "cell_type": "markdown",
   "id": "9ce8d28b-3123-4294-a4d8-d29e3ce4273b",
   "metadata": {
    "deletable": false,
    "editable": false
   },
   "source": [
    "<!-- BEGIN QUESTION -->\n",
    "\n",
    "🧭**Question 2:** In your own words, describe the distinctions between the geographic poles, the magnetic poles, and the geomagnetic poles. (2 points)"
   ]
  },
  {
   "cell_type": "markdown",
   "id": "7990d6e5",
   "metadata": {},
   "source": [
    "_Type your answer here, replacing this text._"
   ]
  },
  {
   "cell_type": "markdown",
   "id": "95adba04-006d-4e3c-bcbd-b9ca0d4e38be",
   "metadata": {
    "deletable": false,
    "editable": false
   },
   "source": [
    "<!-- END QUESTION -->\n",
    "\n",
    "---\n",
    "A magnetic field is a potential field. The potential $V$ for a monopole is expressed by\n",
    "\n",
    "\n",
    "\\begin{align}\n",
    "V = -\\int_\\infty^r \\frac{m}{r^2} dr, \\label{eq4}\\tag{4} \n",
    "\\end{align}\n",
    "    \n",
    "   \n",
    "where $m$ is the pole strength and $r$ is the distance from the pole.\n"
   ]
  },
  {
   "cell_type": "markdown",
   "id": "9aa3f430-7fc8-4898-b800-78aa84666a92",
   "metadata": {
    "deletable": false,
    "editable": false
   },
   "source": [
    "<!-- BEGIN QUESTION -->\n",
    "\n",
    "🧭**Question 3:** Solve the integral to get a simpler equation for potential. Show your work.\n",
    "\n",
    "Submit your math together with this notebook as Markdown/LaTeX, or as a separate document / image."
   ]
  },
  {
   "cell_type": "markdown",
   "id": "cd924960",
   "metadata": {},
   "source": [
    "_Type your answer here, replacing this text._"
   ]
  },
  {
   "cell_type": "markdown",
   "id": "72b8e8f1-1b5d-47b9-b573-745f5b37fa01",
   "metadata": {
    "deletable": false,
    "editable": false
   },
   "source": [
    "<!-- END QUESTION -->\n",
    "\n",
    "---\n",
    "Without going through extensive derivations, the magnetic potential at point $P$ due to a dipole is\n",
    "\n",
    "\\begin{align} \n",
    "V = \\frac{M\\cos\\theta}{r^2}, \\label{eq5}\\tag{4}\n",
    "\\end{align}\n",
    "\n",
    "\n",
    "where $M$ is the magnetic moment, $\\theta$ is the angle from the dipole to point $P$ (90-latitude for a geocentric dipole), and $r$ is the distance between point $P$ and the dipole. By taking the negative derivatives of the potential in spherical coordinates, one could derive the following equations for the radial and tangential components of the magnetic field:\n",
    "\n",
    "\\begin{align}\n",
    "H_r &= -Z_E = \\frac{2M\\cos\\theta}{r^3}. \\label{eq6}\\tag{6}\\\\\n",
    "H_\\theta &= -X_E = \\frac{M\\sin\\theta}{r^3}.\\label{eq7}\\tag{7}\n",
    "\\end{align}\n",
    "\n",
    "Because the Earth is spherical, the radial component $H_r$ is equivalent to the vertical field and the tangential component $H_\\theta$ is equivalent to the horizontal southward pointing field. The E-W component of a dipole field ($Y_E$) is zero. See **Figure 5** below for a visualization of this."
   ]
  },
  {
   "cell_type": "markdown",
   "id": "afbfe223-e249-4779-a4f4-8dea83dcbd40",
   "metadata": {},
   "source": [
    "![](Fig5.png)\n",
    "**Figure 5.** Some important features of the Earth’s magnetic field."
   ]
  },
  {
   "cell_type": "markdown",
   "id": "911ed0a8-39ea-4e3f-b70c-19985b4a3963",
   "metadata": {
    "deletable": false,
    "editable": false
   },
   "source": [
    "🧭**Question 4a:** \n",
    "\n",
    "Assume a radius of $6371\\;km$ for the Earth and a magnetic moment of the imaginary dipole responsible for the majority of Earth’s field as $8\\times10^{25}$ emu.\n",
    "\n",
    "🧭a. Estimate the horizontal $H_e$, vertical $Z_e$, and total $F_e$ fields at the 2006 North magnetic pole in nanoTeslas (latitude 80°; Figure 6). Note that $\\theta$ is the colatitude (90 – latitude). The radius, $r$, must be expressed in centimeters. The answer you will get is expressed in oersteds. Multiply by $10^5$ to get the answer in nanoTeslas (nT)."
   ]
  },
  {
   "cell_type": "code",
   "execution_count": null,
   "id": "86a1ac17",
   "metadata": {
    "tags": []
   },
   "outputs": [],
   "source": [
    "# Type your answer here, replacing \"...\" with your answer\n",
    "Z_e = ...  # use equation (6)\n",
    "H_e = ...  # use equation (7)\n",
    "F_e = ...\n",
    "\n",
    "print(\"The vertical component (Z_e) is %.3f nT\" % Z_e)\n",
    "print(\"The horizontal component (H_e) is %.3f nT\" % H_e)\n",
    "print(\"The total field (F_e) is %.3f nT\" % F_e)"
   ]
  },
  {
   "cell_type": "code",
   "execution_count": null,
   "id": "95906398",
   "metadata": {
    "deletable": false,
    "editable": false
   },
   "outputs": [],
   "source": [
    "grader.check(\"q4a\")"
   ]
  },
  {
   "cell_type": "markdown",
   "id": "ef029306",
   "metadata": {
    "deletable": false,
    "editable": false
   },
   "source": [
    "<!-- BEGIN QUESTION -->\n",
    "\n",
    "🧭**Question 4b:** 2 points\n",
    "\n",
    "How well does it approximate the actual field strength as shown in Figure 6 below? What does the value represent?"
   ]
  },
  {
   "cell_type": "markdown",
   "id": "a3b1243f",
   "metadata": {},
   "source": [
    "_Type your answer here, replacing this text._"
   ]
  },
  {
   "cell_type": "markdown",
   "id": "957b42e6-3ff9-49b8-8094-da69e5eb0094",
   "metadata": {
    "deletable": false,
    "editable": false
   },
   "source": [
    "<!-- END QUESTION -->\n",
    "\n",
    "![](Fig6.png)\n",
    "**Figure 6.** Values of total intensity for the geomagnetic field (FE) in 2006 for a portion of the Western Hemisphere."
   ]
  },
  {
   "cell_type": "markdown",
   "id": "753e145b-1fc3-471a-80b9-aa2346bfb176",
   "metadata": {
    "deletable": false,
    "editable": false
   },
   "source": [
    "<!-- BEGIN QUESTION -->\n",
    "\n",
    "🧭**Question 5:** According to equation (6) and (7), what is the ratio of the dipole total field strength at the equator ($\\theta=90^{\\circ}$) to that at the pole ($\\theta=0^\\circ$)? Show your work. (2 points)"
   ]
  },
  {
   "cell_type": "markdown",
   "id": "36a018c2",
   "metadata": {},
   "source": [
    "_Type your answer here, replacing this text._"
   ]
  },
  {
   "cell_type": "markdown",
   "id": "3f0a8ccf-22b6-40e9-8a5e-fbad6096f264",
   "metadata": {
    "deletable": false,
    "editable": false
   },
   "source": [
    "<!-- END QUESTION -->\n",
    "\n",
    "In a magnetic survey we look for perturbations between the observed magnetic field and a reference field. These perturbations are from smaller magnetic fields induced by geologic bodies.\n",
    "\n",
    "The magnetic field that we actually measure is the sum of Earth’s magnetic field at the point of study and the anomalous field produced by a geologic body or bodies. However, we are interested in the total field anomaly in the direction of Earth’s main field. This is referred to as $F_{AT}$. $F_{AT}$ depends on the vertical and horizontal components of the anomalous field ($Z_A$ and $H_A$, respectively) and the inclination $i$:\n",
    "\n",
    "\\begin{align}\n",
    "F_{AT} = Z_A\\sin{i} + H_A\\cos{i}.\\label{eq8}\\tag{8}\n",
    "\\end{align}\n",
    "\n",
    "The next few questions are designed to help you gain some basic intuition on what the magnetic field induced in a simple geological body looks like."
   ]
  },
  {
   "cell_type": "markdown",
   "id": "47729442-3aa4-497e-89ec-3474e503bb22",
   "metadata": {
    "deletable": false,
    "editable": false
   },
   "source": [
    "<!-- BEGIN QUESTION -->\n",
    "\n",
    "**Question 6:** At each location indicated below, determine whether the vertical or horizontal components of the anomalous magnetic field will be more important. Illustrate your answers using vectors.\n",
    "\n",
    "a. Near the poles. *Hint: $i=90^\\circ$*"
   ]
  },
  {
   "cell_type": "markdown",
   "id": "0e6d1fbc",
   "metadata": {
    "deletable": false,
    "editable": false
   },
   "source": [
    "b. Near the equator. *Hint: $i=0^\\circ$*"
   ]
  },
  {
   "cell_type": "markdown",
   "id": "2a793e26",
   "metadata": {},
   "source": [
    "_Type your answer here, replacing this text._"
   ]
  },
  {
   "cell_type": "markdown",
   "id": "4191e72a-57f3-4a65-b2f2-ae6da773b4cf",
   "metadata": {
    "deletable": false,
    "editable": false
   },
   "source": [
    "<!-- END QUESTION -->\n",
    "\n",
    "You just proved that the component (vertical or horizontal) that affects the total induced field the most depends on latitude. Latitude also affects the orientation of Earth’s magnetic field, which induces the magnetic field in the geologic body. This gets confusing, because as you change latitude, not only are you seeing different contributions from the horizontal and vertical field in the total field, but you are also seeing changes in the horizontal and vertical fields themselves. **YIKES!**\n",
    "\n",
    "---\n",
    "## Buried Spherical Body"
   ]
  },
  {
   "cell_type": "code",
   "execution_count": null,
   "id": "965e26d2-a3cd-4d86-8c04-2f9c0feb5cce",
   "metadata": {},
   "outputs": [],
   "source": [
    "# below we define a function that calculates the anomaly based on a buried magnetic sphere\n",
    "# function takes the inputs z, R, k, x, inc\n",
    "# function outputs the values of Z_a, H_a, and F_at\n",
    "\n",
    "# z is the depth of the sphere in meters\n",
    "# R is the radius of the sphere in meters\n",
    "# k is the magnetic susceptibility in cgs emu (cm^(1/2)/s)\n",
    "# x is the position on the surface in meters (x=0 is above center of sphere)\n",
    "# inc is the inclination in degrees\n",
    "\n",
    "# do not alter this part since this is where we define it\n",
    "# skip ahead to the next cell to call the function\n",
    "\n",
    "def mag_sphere(z,R,k,x,inc):\n",
    "    # changes inclination if 0\n",
    "    if inc == 0: # in DEGREES - changed to radians in script\n",
    "        inc = 1e-10\n",
    "    incr = np.deg2rad(inc) # convert degres to radian\n",
    "    # calculate magnetic field strength\n",
    "    theta = np.arctan(np.tan(incr)/2) #inclination to colatitude - this is in radians now\n",
    "    eR = 6.4e8\n",
    "    M = 8e25\n",
    "    Z_e = ((2*M*np.cos(theta))/(eR**3))*(10**5)\n",
    "    H_e = ((M*np.sin(theta))/(eR**3))*(10**5)\n",
    "    F_e = np.sqrt(Z_e**2+H_e**2)\n",
    "    \n",
    "    Z_a = ((((4/3)*np.pi*R**3*k*F_e)*np.sin(incr))/(x**2+z**2)**(3/2))*(((3*z**2)/(x**2+z**2))-((3*x*z/np.tan(incr))/(x**2+z**2))-1);\n",
    "    H_a = ((((4/3)*np.pi*R**3*k*F_e)*np.cos(incr))/(x**2+z**2)**(3/2))*(((3*z**2)/(x**2+z**2))-((3*x*z*np.tan(incr))/(x**2+z**2))-1);\n",
    "    F_a = Z_a*np.sin(incr)+H_a*np.cos(incr)\n",
    "    \n",
    "    fig = plt.plot(x, Z_a, 'b:', label='Vertical')\n",
    "    fig = plt.plot(x, H_a, 'r:', label='Horizontal')\n",
    "    fig = plt.plot(x, F_a, 'g-', label='Total')\n",
    "    plt.xlabel('Position (x)')\n",
    "    plt.ylabel('Magnetic Field Anomaly (nT)')\n",
    "    plt.legend()\n",
    "    plt.show()"
   ]
  },
  {
   "cell_type": "markdown",
   "id": "905c84a9",
   "metadata": {},
   "source": [
    "Now we will use the function mag_sphere to calculate, and plot the magnetif field anomaly components and total force."
   ]
  },
  {
   "cell_type": "code",
   "execution_count": null,
   "id": "bee038f4-7a81-41a6-ade2-b89488c5180f",
   "metadata": {},
   "outputs": [],
   "source": [
    "# input parameters\n",
    "z = 5 # depth from the spherical anomaly in meters\n",
    "R = 1 # radius of the spherical anomaly in meters\n",
    "k = 0.005 # magnetic susceptibility in cgs emu (cm^(1/2)/s)\n",
    "x = np.linspace(-50, 50, 101) # position on the surface in meters (x=0 is above center of sphere)\n",
    "inc = 120 #degrees # inclination in degrees\n",
    "\n",
    "# calling the function\n",
    "mag_sphere(z, R, k, x, inc)"
   ]
  },
  {
   "cell_type": "markdown",
   "id": "f8cd1213-bfc3-4e00-93b0-a8ce315c22ba",
   "metadata": {
    "deletable": false,
    "editable": false
   },
   "source": [
    "<!-- BEGIN QUESTION -->\n",
    "\n",
    "🧭**Question 7:**  Use the `mag_sphere` function to show the horizontal, vertical, and total field curves for each of the following inclinations. For each plot, write a 1-2 sentence explanation describing the information shown in each plot and what it means for the magnetic anomalies you would see at those places on Earth's surface. **Only change the inclination parameter in the `mag_sphere` function and keep other paramemters unchanged.** (3 points)\n",
    "\n",
    "a. north pole (inclination $i=90^\\circ$)\n",
    "\n",
    "b. Equator (inclination $i=0^\\circ$)\n",
    "\n",
    "c. Salem, OR (inclination $i=45^\\circ$)"
   ]
  },
  {
   "cell_type": "markdown",
   "id": "1beae429",
   "metadata": {},
   "source": [
    "_Type your answer here, replacing this text._"
   ]
  },
  {
   "cell_type": "markdown",
   "id": "af9fa1fe",
   "metadata": {
    "deletable": false,
    "editable": false
   },
   "source": [
    "<!-- END QUESTION -->\n",
    "\n",
    "<!-- BEGIN QUESTION -->\n",
    "\n",
    "🧭**Question 8:** For the question below, **only change one parameter at a time in the `mag_sphere` function and keep other paramemters unchanged.** (2 points)\n",
    "\n",
    "a. Move the spherical body deeper into the subsurface (increase $z$). What does this do to the curve?\n",
    "\n",
    "b. Increase the susceptibility (increase $k$). What does this do to the total field?"
   ]
  },
  {
   "cell_type": "markdown",
   "id": "e70b4270",
   "metadata": {},
   "source": [
    "_Type your answer here, replacing this text._"
   ]
  },
  {
   "cell_type": "markdown",
   "id": "57930fc3-21dd-4c08-8bf7-90f6bab25ab2",
   "metadata": {
    "deletable": false,
    "editable": false
   },
   "source": [
    "<!-- END QUESTION -->\n",
    "\n",
    "Despite the added complication of the latitude dependence of magnetic data, you can see that manipulating a simple rectangular body in the subsurface affects magnetic measurements similarly to how it affects gravity measurements. This also means that magnetic surveys have the same problem as gravity surveys: there are multiple subsurface models that can fit the same data set, the inverse problem is not unique. Therefore, the effectiveness of a magnetic study depends on whether there is previous geologic knowledge of the area.\n",
    "\n",
    "---\n",
    "## Real Buried Body: Magnetic Survey\n",
    "Okay, lets finally get to an example. You are in Arizona (Latitude = 34°N) at an archeological site and are looking for old buried walls. Your colleagues already found one wall extending East/West, composed of basalt. Now you are conducting a magnetic survey to find more walls. You take 101 measurements in a South/North trending line. The results are in `ArchealogicalData.txt` that can be read through `pandas`. We will use Harmonica to model the magnetic data.\n",
    "\n",
    "Similar to Harmonica for gravity modeling, we first need to define the coordinate system for observation (3-dimentional coordinate system). Scripts below define a `region` of 100x100 meters: 100 meters in both x and y direction (horizontal). The `shape` parameter defines who many points to measure in the defined region, which in this case, 101 measurement in both x and y direction. Then we would have gravity measurement at `x = [0,1,2,...,100]` and `y = [0,1,2,...,100]`."
   ]
  },
  {
   "cell_type": "code",
   "execution_count": null,
   "id": "d56d821f",
   "metadata": {},
   "outputs": [],
   "source": [
    "region = (0, 100, 0, 100) # (x_min, x_max, y_min, y_max), all in meters\n",
    "shape = (101, 101)        # (n_x, n_y)\n",
    "height = 0                # in meters\n",
    "coordinates = vd.grid_coordinates(region, shape=shape, extra_coords=height)\n",
    "\n",
    "prism = [0, 100, 44, 54, -10, -9] # (x_min, x_max, y_min, y_max, z_min, z_max), all in meters\n",
    "magnetization = [0, 1, 0]        # vector in x, y, and z component, in epm (A/m)\n",
    "\n",
    "# returned each component of the magnetic field generated by the blocks as arrays.\n",
    "b_e, b_n, b_z = hm.prism_magnetic(coordinates, prism, magnetization)"
   ]
  },
  {
   "cell_type": "markdown",
   "id": "68579b98",
   "metadata": {},
   "source": [
    "We can plot the magnetic anomaly map (2D). We can also plot the anomaly profile (1D, along the red dashed line in the map)."
   ]
  },
  {
   "cell_type": "code",
   "execution_count": null,
   "id": "5aeb0bf0",
   "metadata": {},
   "outputs": [],
   "source": [
    "plt.figure(figsize=(14, 5), dpi=100)\n",
    "plt.subplot(1,2,1)\n",
    "plt.title(\"magnetic anomaly map (z direction)\")\n",
    "plt.pcolormesh(coordinates[0], coordinates[1], b_z)\n",
    "plt.vlines(50, 1, 100, color='r', linestyle='--')\n",
    "plt.colorbar(label=\"nT\")\n",
    "plt.xlabel(\"East/West (x, m)\")\n",
    "plt.ylabel(\"South/North (y, m)\")\n",
    "\n",
    "plt.subplot(1,2,2)\n",
    "plt.title(\"magnetic anomaly profile\")\n",
    "plt.plot(b_z[:, 50], color='k', linestyle='-')\n",
    "plt.xlabel(\"South/North (y, m)\")"
   ]
  },
  {
   "cell_type": "code",
   "execution_count": null,
   "id": "99a0be70",
   "metadata": {},
   "outputs": [],
   "source": [
    "# Read the data\n",
    "df = pd.read_csv(\"./ArcheologicalData.txt\", names=[\"measurement\", \"x\", \"b_z\", \"b_n\", \"b_e\"])\n",
    "df.head()        # show the first 5 rows"
   ]
  },
  {
   "cell_type": "markdown",
   "id": "6cb5f122-6a30-4a28-8418-a4518b521dd1",
   "metadata": {
    "deletable": false,
    "editable": false
   },
   "source": [
    "<!-- BEGIN QUESTION -->\n",
    "\n",
    "🧭**Question 9:** \n",
    "\n",
    "Create a subsurface model that fits the magnetic data (you can only fit the z component). **Only change the shape of the magnetization block in y direction (north/south profile).** Two blocks can fit the data well. (2 points)"
   ]
  },
  {
   "cell_type": "code",
   "execution_count": null,
   "id": "1c784cce",
   "metadata": {
    "tags": []
   },
   "outputs": [],
   "source": [
    "# Type your answer here, replacing \"...\" with your answer\n",
    "block = [[0, 100, ..., ..., ..., ...], # block 1: (x_min, x_max, y_min, y_max, z_min, z_max), all in meters\n",
    "         [0, 100, ..., ..., ..., ...]] # block 2: (x_min, x_max, y_min, y_max, z_min, z_max), all in meters\n",
    "\n",
    "magnetization = [[0, -1, 0],        # magnetization vector for block 1\n",
    "                 [0, -1, 0]]        # magnetization vector for block 2\n",
    "# returned each component of the magnetic field generated by the blocks as arrays.\n",
    "b_e, b_n, b_z = hm.prism_magnetic(coordinates, block, magnetization)"
   ]
  },
  {
   "cell_type": "code",
   "execution_count": null,
   "id": "2f5015dc",
   "metadata": {
    "tags": []
   },
   "outputs": [],
   "source": [
    "plt.figure(figsize=(10, 5), dpi=100)\n",
    "plt.plot(df['x'], df['b_z'], label=\"field data\")\n",
    "plt.plot(df['x'], b_z[:, 50], label='my model')\n",
    "plt.grid(True)\n",
    "plt.legend(fontsize=12)\n",
    "plt.ylabel(\"magnetic anomaly (nT)\", fontsize=15)\n",
    "plt.xlabel(\"South/North (y, m)\", fontsize=15)"
   ]
  },
  {
   "cell_type": "markdown",
   "id": "fc6949a0-cd3f-486e-83ee-b55a48ce8dd8",
   "metadata": {
    "deletable": false,
    "editable": false
   },
   "source": [
    "<!-- END QUESTION -->\n",
    "\n",
    "<!-- BEGIN QUESTION -->\n",
    "\n",
    "🧭**Question 10:**  Image that you performed both an induced magnetic survey and a gravity survey looking for features in the shallow subsurface. When you look at your data, the induced magnetism curve is completely flat, but the gravity survey reveals a large negative anomaly. What could this feature be? Why is there no induced magnetics? (1 point)"
   ]
  },
  {
   "cell_type": "markdown",
   "id": "ef35c901",
   "metadata": {},
   "source": [
    "_Type your answer here, replacing this text._"
   ]
  },
  {
   "cell_type": "markdown",
   "id": "576424a2",
   "metadata": {
    "deletable": false,
    "editable": false
   },
   "source": [
    "<!-- END QUESTION -->\n",
    "\n"
   ]
  },
  {
   "cell_type": "markdown",
   "id": "a3dc2f25",
   "metadata": {
    "deletable": false,
    "editable": false
   },
   "source": [
    "## Submission\n",
    "\n",
    "Make sure you have run all cells in your notebook in order before running the cell below, so that all images/graphs appear in the output. The cell below will generate a zip file for you to submit. **Please save before exporting!**\n",
    "\n",
    "These are the lab 7 of ESS 314 Autumn 2023."
   ]
  },
  {
   "cell_type": "code",
   "execution_count": null,
   "id": "ee1c5082",
   "metadata": {
    "deletable": false,
    "editable": false
   },
   "outputs": [],
   "source": [
    "# Save your notebook first, then run this cell to export your submission.\n",
    "grader.export(pdf=False, run_tests=True)"
   ]
  },
  {
   "cell_type": "markdown",
   "id": "f4c5540e",
   "metadata": {},
   "source": [
    " "
   ]
  }
 ],
 "metadata": {
  "kernelspec": {
   "display_name": "ess314",
   "language": "python",
   "name": "ess314"
  },
  "language_info": {
   "codemirror_mode": {
    "name": "ipython",
    "version": 3
   },
   "file_extension": ".py",
   "mimetype": "text/x-python",
   "name": "python",
   "nbconvert_exporter": "python",
   "pygments_lexer": "ipython3",
   "version": "3.8.17"
  },
  "otter": {
   "OK_FORMAT": true,
   "assignment_name": "lab7-ess314",
   "tests": {
    "q1c": {
     "name": "q1c",
     "points": 2,
     "suites": [
      {
       "cases": [
        {
         "code": ">>> np.issubdtype(type(inc), np.number)\nTrue",
         "hidden": false,
         "locked": false
        },
        {
         "code": ">>> np.issubdtype(type(dec), np.number)\nTrue",
         "hidden": false,
         "locked": false
        }
       ],
       "scored": true,
       "setup": "",
       "teardown": "",
       "type": "doctest"
      }
     ]
    },
    "q4a": {
     "name": "q4a",
     "points": 3,
     "suites": [
      {
       "cases": [
        {
         "code": ">>> np.issubdtype(type(Z_e), np.number)\nTrue",
         "hidden": false,
         "locked": false
        },
        {
         "code": ">>> np.issubdtype(type(H_e), np.number)\nTrue",
         "hidden": false,
         "locked": false
        },
        {
         "code": ">>> np.issubdtype(type(F_e), np.number)\nTrue",
         "hidden": false,
         "locked": false
        }
       ],
       "scored": true,
       "setup": "",
       "teardown": "",
       "type": "doctest"
      }
     ]
    }
   }
  }
 },
 "nbformat": 4,
 "nbformat_minor": 5
}
