{
 "cells": [
  {
   "cell_type": "code",
   "execution_count": null,
   "metadata": {
    "deletable": false,
    "editable": false
   },
   "outputs": [],
   "source": [
    "# Initialize Otter\n",
    "import otter\n",
    "grader = otter.Notebook(\"Lab6.ipynb\")"
   ]
  },
  {
   "cell_type": "markdown",
   "metadata": {
    "id": "PakrBEd-D01j"
   },
   "source": [
    "# **ESS 314: LAB 6**\n",
    "## **Gravity**\n",
    "\n",
    "**Let's first import the python libraries that are required during the lab.**"
   ]
  },
  {
   "cell_type": "code",
   "execution_count": null,
   "metadata": {},
   "outputs": [],
   "source": [
    "import numpy as np\n",
    "import pandas as pd\n",
    "import matplotlib.pyplot as plt\n",
    "\n",
    "# new packages for gravity & magnetic modeling\n",
    "import harmonica as hm\n",
    "import verde as vd"
   ]
  },
  {
   "cell_type": "markdown",
   "metadata": {
    "deletable": false,
    "editable": false,
    "id": "RNIb2hQHE7EK"
   },
   "source": [
    "<!-- BEGIN QUESTION -->\n",
    "\n",
    "📍**Question 1:** What does the Bouguer correction correct for? (1 point)"
   ]
  },
  {
   "cell_type": "markdown",
   "metadata": {},
   "source": [
    "_Type your answer here, replacing this text._"
   ]
  },
  {
   "cell_type": "markdown",
   "metadata": {
    "deletable": false,
    "editable": false,
    "id": "lxZrjEYwE9jS"
   },
   "source": [
    "<!-- END QUESTION -->\n",
    "\n",
    "📍**Question 2:** The density of the surrounding rock is 2600 $kg/m^3$ and the density of a body of interest is 2800 $kg/m^3$. What is the density contrast in $kg/m^3$? (Make sure you get the sign right.)"
   ]
  },
  {
   "cell_type": "code",
   "execution_count": null,
   "metadata": {
    "tags": []
   },
   "outputs": [],
   "source": [
    "# Type your answer here, replacing \"...\" with your answer\n",
    "contrast = ...\n",
    "contrast"
   ]
  },
  {
   "cell_type": "code",
   "execution_count": null,
   "metadata": {
    "deletable": false,
    "editable": false
   },
   "outputs": [],
   "source": [
    "grader.check(\"q2\")"
   ]
  },
  {
   "cell_type": "markdown",
   "metadata": {},
   "source": [
    "---\n",
    "#### **Learning to use Harmonica**\n",
    "\n",
    "**Harmonica** is a Python library for processing and modeling gravity and magnetic data. It includes common processing steps, like calculation of Bouguer and terrain corrections, reduction to the pole, upward continuation, equivalent sources, and more. There are forward modeling functions for basic geometric shapes. You can find more documentation about Harmonica here: https://www.fatiando.org/harmonica/v0.6.0/\n",
    "\n",
    "To use Harmonica, we first need to define the coordinate system for observation (3-dimentional coordinate system). Scripts below define a `region` of 100x100 meters: 100 meters in both x and y direction (horizontal). The `shape` parameter defines who many points to measure in the defined region, which in this case, 101 measurement in both x and y direction. Then we would have gravity measurement at `x = [0,1,2,...,100]` and `y = [0,1,2,...,100]`. We also define the height where the measurement should be made, which is important for gravity modeling."
   ]
  },
  {
   "cell_type": "code",
   "execution_count": null,
   "metadata": {},
   "outputs": [],
   "source": [
    "region = (0, 100, 0, 100) # (x_min, x_max, y_min, y_max), all in meters\n",
    "shape = (101, 101)        # (n_x, n_y)\n",
    "height = 0                # in meters\n",
    "coordinates = vd.grid_coordinates(region, shape=shape, extra_coords=height)"
   ]
  },
  {
   "cell_type": "markdown",
   "metadata": {},
   "source": [
    "Then, we define the density model that gives gravity response. Here, we define a 3-dimentional block with some density contrast to the background. **Harmonica assumes zero density of the background material, so when defining the body, only use the density constrast.** For example here, we define a block that is 20 meters width in x (left edge at 40 $m$, right edge at 60 $m$), 20 meters width in y (left edge at 40 $m$, right edge at 60 $m$), and 10 meters thick (upper edge at -10 $m$, lower edge at -20 $m$). The density contrast is 200 $kg/m^3$."
   ]
  },
  {
   "cell_type": "code",
   "execution_count": null,
   "metadata": {},
   "outputs": [],
   "source": [
    "block = [40, 60, 40, 60, -20, -10] # (x_min, x_max, y_min, y_max, z_min, z_max), all in meters\n",
    "density_contrast = 200.            # unit in kg/m^3"
   ]
  },
  {
   "cell_type": "markdown",
   "metadata": {},
   "source": [
    "Using the paramter above, we can modeling the gravity field anomaly ($g_z$) from the higher density block."
   ]
  },
  {
   "cell_type": "code",
   "execution_count": null,
   "metadata": {},
   "outputs": [],
   "source": [
    "result_q3 = hm.prism_gravity(coordinates, block, density_contrast, field=\"g_z\")\n",
    "print(f\"the shape of result is {result_q3.shape}\")"
   ]
  },
  {
   "cell_type": "markdown",
   "metadata": {},
   "source": [
    "We can plot the gravity anomaly map (2D). We can also plot the anomaly profile (1D, along the red/yellow/green dashed line in the map)."
   ]
  },
  {
   "cell_type": "code",
   "execution_count": null,
   "metadata": {},
   "outputs": [],
   "source": [
    "plt.figure(figsize=(14, 5), dpi=100)\n",
    "plt.subplot(1,2,1)\n",
    "plt.title(\"gravity anomaly map\")\n",
    "plt.pcolormesh(coordinates[0], coordinates[1], result_q3)\n",
    "plt.hlines(50, 1, 100, color='r', linestyle='--')\n",
    "plt.hlines(30, 1, 100, color='y', linestyle='--')\n",
    "plt.hlines(10, 1, 100, color='g', linestyle='--')\n",
    "plt.colorbar(label=\"mGal\")\n",
    "plt.xlabel(\"x\")\n",
    "plt.ylabel(\"y\")\n",
    "\n",
    "plt.subplot(1,2,2)\n",
    "plt.title(\"gravity anomaly profile\")\n",
    "plt.plot(result_q3[50], color='k', linestyle='-')\n",
    "plt.plot(result_q3[30], color='k', linestyle=':')\n",
    "plt.plot(result_q3[10], color='k', linestyle='--')\n",
    "plt.xlabel(\"x\")"
   ]
  },
  {
   "cell_type": "markdown",
   "metadata": {
    "deletable": false,
    "editable": false,
    "id": "pOonwTXsMGZI"
   },
   "source": [
    "<!-- BEGIN QUESTION -->\n",
    "\n",
    "📍**Question 3:**\n",
    "\n",
    "a. Describe the shape of the curve in the gravity anomaly profile. (1 point)\n",
    "\n",
    "b. The solid line on the profile plot corresponds to which profile on the map (red, yellow, or green line)? How about the dotted line and the dashed line? (2 points)\n",
    "\n",
    "c. Where is the peak of the curve relative to the block? (1 point)"
   ]
  },
  {
   "cell_type": "markdown",
   "metadata": {},
   "source": [
    "_Type your answer here, replacing this text._"
   ]
  },
  {
   "cell_type": "markdown",
   "metadata": {
    "deletable": false,
    "editable": false,
    "id": "02c1eNq3MH-3"
   },
   "source": [
    "<!-- END QUESTION -->\n",
    "\n",
    "<!-- BEGIN QUESTION -->\n",
    "\n",
    "📍**Question 4:** Give your answers based on the anomaly map. You can use `np.max()` to fine the maximum value in the `result_q3`. (2 points)\n",
    "\n",
    "a. What is the peak anomaly when the density contrast is 200 $kg/m^3$?\n",
    "\n",
    "b. If you change the contrast density to 100 $kg/m^3$, what will be the peak anomaly?"
   ]
  },
  {
   "cell_type": "markdown",
   "metadata": {},
   "source": [
    "_Type your answer here, replacing this text._"
   ]
  },
  {
   "cell_type": "markdown",
   "metadata": {
    "deletable": false,
    "editable": false,
    "id": "SV2JsBxhMIPI"
   },
   "source": [
    "<!-- END QUESTION -->\n",
    "\n",
    "<!-- BEGIN QUESTION -->\n",
    "\n",
    "📍**Question 5:**\n",
    "\n",
    "a. What happens to the curve if you change the contrast density contrast to negative? (1 point)\n",
    "\n",
    "b. If the density contrast is negative, is the body more or less dense than the surrounding host rock? (1 point)"
   ]
  },
  {
   "cell_type": "markdown",
   "metadata": {},
   "source": [
    "_Type your answer here, replacing this text._"
   ]
  },
  {
   "cell_type": "markdown",
   "metadata": {
    "deletable": false,
    "editable": false,
    "id": "hcTbIakrOUgP"
   },
   "source": [
    "<!-- END QUESTION -->\n",
    "\n",
    "<!-- BEGIN QUESTION -->\n",
    "\n",
    "📍**Question 6a:** Remember that we modelled the gravity anomaly for a block with density contrast of $200 kg/m^3$. We now increase the density contrast to 400 $kg/m^3$. Approximately how deep does **the top of the body** (z_max) have to be for the peak anomaly to be the same as it was when the density contrast was 200 $kg/m^3$? You can modify the depth of the block below, but please keep the thickness of the body at a constant 10 $m$. (2 points)"
   ]
  },
  {
   "cell_type": "code",
   "execution_count": null,
   "metadata": {
    "deletable": false,
    "editable": false
   },
   "outputs": [],
   "source": [
    "region = (0, 100, 0, 100)\n",
    "shape = (101, 101)\n",
    "height = 0\n",
    "coordinates = vd.grid_coordinates(region, shape=shape, extra_coords=height)"
   ]
  },
  {
   "cell_type": "code",
   "execution_count": null,
   "metadata": {
    "tags": []
   },
   "outputs": [],
   "source": [
    "# Type your answer here, replacing \"...\" with your answer\n",
    "block =      [40, 60, 40, 60, ..., ...]   # (x_min, x_max, y_min, y_max, z_min, z_max), all in meters\n",
    "density_contrast = ...                    # unit in kg/m^3\n",
    "\n",
    "result_q6a = hm.prism_gravity(coordinates, block, density_contrast, field=\"g_z\")\n",
    "print(f\"the maximum gravity anomaly is {np.max(result_q6a)} mGal\")"
   ]
  },
  {
   "cell_type": "markdown",
   "metadata": {
    "deletable": false,
    "editable": false
   },
   "source": [
    "<!-- END QUESTION -->\n",
    "\n",
    "<!-- BEGIN QUESTION -->\n",
    "\n",
    "📍**Question 6b:** We also reduce the density contrast to 150 $kg/m^3$. Approximately how shallow does **the top of the body** (z_max) have to be for the peak anomaly to be the same as it was when the density contrast was 200 $kg/m^3$? You can modify the depth of the block below, but please keep the thickness of the body at a constant 10 $m$. (2 points)"
   ]
  },
  {
   "cell_type": "code",
   "execution_count": null,
   "metadata": {
    "tags": []
   },
   "outputs": [],
   "source": [
    "# Type your answer here, replacing \"...\" with your answer\n",
    "block =      [40, 60, 40, 60, ..., ...]   # (x_min, x_max, y_min, y_max, z_min, z_max), all in meters\n",
    "density_contrast = ...                    # unit in kg/m^3\n",
    "\n",
    "result_q6b = hm.prism_gravity(coordinates, block, density_contrast, field=\"g_z\")\n",
    "print(f\"the maximum gravity anomaly is {np.max(result_q6b)} mGal\")"
   ]
  },
  {
   "cell_type": "markdown",
   "metadata": {
    "deletable": false,
    "editable": false,
    "id": "rJL_Fn8EOWkv"
   },
   "source": [
    "<!-- END QUESTION -->\n",
    "\n",
    "<!-- BEGIN QUESTION -->\n",
    "\n",
    "📍**Question 7:** \n",
    "\n",
    "We plot the anomaly profile from `result_q3` (corresponds to contrast 200 $kg/m^3$), together with `result_q6a` and `result_q6b` (corresponds to density contrast 400 and 150 $kg/m^3$, respectively). Use the figure below to explain how can you distinguish a shallow, dense body from a deeper, denser body. (2 points)"
   ]
  },
  {
   "cell_type": "markdown",
   "metadata": {},
   "source": [
    "_Type your answer here, replacing this text._"
   ]
  },
  {
   "cell_type": "code",
   "execution_count": null,
   "metadata": {
    "tags": []
   },
   "outputs": [],
   "source": [
    "plt.figure(figsize=(10,6))\n",
    "plt.plot(result_q3[50, :], c='k')\n",
    "plt.plot(result_q6a[50, :], c='k')\n",
    "plt.plot(result_q6b[50, :], c='k')\n",
    "plt.grid(True)\n",
    "plt.xlabel(\"y (m)\", fontsize=14)\n",
    "plt.ylabel(\"gravity anomaly (mGal)\", fontsize=14)"
   ]
  },
  {
   "cell_type": "markdown",
   "metadata": {
    "deletable": false,
    "editable": false
   },
   "source": [
    "<!-- END QUESTION -->\n",
    "\n",
    "---"
   ]
  },
  {
   "cell_type": "markdown",
   "metadata": {
    "deletable": false,
    "editable": false,
    "id": "zZ8yc-opSyKN"
   },
   "source": [
    "<!-- BEGIN QUESTION -->\n",
    "\n",
    "📍**Question 8:** \n",
    "\n",
    "Based on your answer to question 6, you should have noticed that the results from gravity surveys are non-unique. Multiple subsurface configurations can produce very similar anomaly curves.\n",
    "\n",
    "Load the file `GravityData.txt`. Create two different subsurface models to fit the observations (i.e., add bodies to the subsurface so that the calculated gravities fit the observations). You can use different density contrasts, shapes, and even add more than 1 body. There are infinite answers. (2 points for each modeling)"
   ]
  },
  {
   "cell_type": "code",
   "execution_count": null,
   "metadata": {
    "deletable": false,
    "editable": false
   },
   "outputs": [],
   "source": [
    "# Read the data\n",
    "df = pd.read_csv(\"./GravityData.txt\", names=[\"measurement\", \"x\", \"g_z\"])\n",
    "df.head()        # show the first 5 rows"
   ]
  },
  {
   "cell_type": "markdown",
   "metadata": {
    "deletable": false,
    "editable": false
   },
   "source": [
    "We use the same coordinate setting as above."
   ]
  },
  {
   "cell_type": "code",
   "execution_count": null,
   "metadata": {
    "deletable": false,
    "editable": false
   },
   "outputs": [],
   "source": [
    "region = (0, 100, 0, 100)\n",
    "shape = (101, 101)\n",
    "height = 0\n",
    "coordinates = vd.grid_coordinates(region, shape=shape, extra_coords=height)"
   ]
  },
  {
   "cell_type": "markdown",
   "metadata": {},
   "source": [
    "_Type your answer here, replacing this text._"
   ]
  },
  {
   "cell_type": "code",
   "execution_count": null,
   "metadata": {
    "tags": []
   },
   "outputs": [],
   "source": [
    "# Type your answer here, replacing \"...\" with your answer\n",
    "blocks = [..., ..., 0, 100, ..., ...]   # (x_min, x_max, y_min, y_max, z_min, z_max), all in meters\n",
    "density = ...                           # density contrast \n",
    "\n",
    "result_q9a = hm.prism_gravity(coordinates, blocks, density, field='g_z')\n",
    "print(f\"the maximum gravity anomaly is {np.max(result_q9a)} mGal\")"
   ]
  },
  {
   "cell_type": "code",
   "execution_count": null,
   "metadata": {
    "tags": []
   },
   "outputs": [],
   "source": [
    "# Type your answer here, replacing \"...\" with your answer\n",
    "blocks = [[..., ..., 0, 100, ..., ...], # (x_min, x_max, y_min, y_max, z_min, z_max) of BLOCK 1\n",
    "          [..., ..., 0, 100, ..., ...]] # (x_min, x_max, y_min, y_max, z_min, z_max) of BLOCK 2\n",
    "density = [...,                         # density contrast for BLOCK 1\n",
    "           ...]                         # density contrast for BLOCK 2\n",
    "\n",
    "result_q9b = hm.prism_gravity(coordinates, blocks, density, field='g_z')\n",
    "print(f\"the maximum gravity anomaly is {np.max(result_q9b)} mGal\")"
   ]
  },
  {
   "cell_type": "code",
   "execution_count": null,
   "metadata": {
    "tags": []
   },
   "outputs": [],
   "source": [
    "plt.figure(figsize=(10, 5))\n",
    "plt.plot(df['x'], df['g_z'], label = 'data', linewidth = 2)\n",
    "plt.plot(df['x'], result_q9a[50, :], label = 'my model 1')\n",
    "plt.plot(df['x'], result_q9b[50, :], label = 'my model 2')\n",
    "plt.xlabel(\"x (m)\", fontsize=14)\n",
    "plt.ylabel(\"gravity anomaly (mGal)\", fontsize=14)\n",
    "plt.grid(True)\n",
    "plt.legend(fontsize=14)"
   ]
  },
  {
   "cell_type": "markdown",
   "metadata": {
    "deletable": false,
    "editable": false,
    "id": "cRNLlsJ1UZ3F"
   },
   "source": [
    "<!-- END QUESTION -->\n",
    "\n",
    "<!-- BEGIN QUESTION -->\n",
    "\n",
    "📍**Question 9:** \n",
    "\n",
    "A company is looking to build a new housing development in northern Arizona. The shallow subsurface in the area is composed of limestone and there has consequently been a history of large sinkholes. The company hires you to perform a gravity survey to look for shallow, underground caverns. \n",
    "\n",
    "The subsurface configurations in the figure below produce similar gravity anomaly curves. Which is more geologically plausible? Justify your answer with two geologic reasons at minimum! (2 points, 1 each)\n",
    "\n",
    "**Note: The typical density of limestone is 2500-2800 $kg/m^3$.** And the **Density** column in the figure below marks the **density contrast**."
   ]
  },
  {
   "cell_type": "markdown",
   "metadata": {
    "deletable": false,
    "editable": false,
    "id": "4WfoLVEpVGud"
   },
   "source": [
    "![](Question9.png)"
   ]
  },
  {
   "cell_type": "markdown",
   "metadata": {},
   "source": [
    "_Type your answer here, replacing this text._"
   ]
  },
  {
   "cell_type": "markdown",
   "metadata": {
    "deletable": false,
    "editable": false
   },
   "source": [
    "<!-- END QUESTION -->\n",
    "\n"
   ]
  },
  {
   "cell_type": "markdown",
   "metadata": {
    "deletable": false,
    "editable": false
   },
   "source": [
    "## Submission\n",
    "\n",
    "Make sure you have run all cells in your notebook in order before running the cell below, so that all images/graphs appear in the output. The cell below will generate a zip file for you to submit. **Please save before exporting!**\n",
    "\n",
    "These are the lab 6 of ESS 314 Autumn 2023."
   ]
  },
  {
   "cell_type": "code",
   "execution_count": null,
   "metadata": {
    "deletable": false,
    "editable": false
   },
   "outputs": [],
   "source": [
    "# Save your notebook first, then run this cell to export your submission.\n",
    "grader.export(pdf=False, run_tests=True)"
   ]
  },
  {
   "cell_type": "markdown",
   "metadata": {},
   "source": [
    " "
   ]
  }
 ],
 "metadata": {
  "colab": {
   "authorship_tag": "ABX9TyNbOogAV0i0rN9Cv7stfhKx",
   "name": "Lab 6.ipynb",
   "provenance": []
  },
  "kernelspec": {
   "display_name": "ess314",
   "language": "python",
   "name": "ess314"
  },
  "language_info": {
   "codemirror_mode": {
    "name": "ipython",
    "version": 3
   },
   "file_extension": ".py",
   "mimetype": "text/x-python",
   "name": "python",
   "nbconvert_exporter": "python",
   "pygments_lexer": "ipython3",
   "version": "3.8.17"
  },
  "otter": {
   "OK_FORMAT": true,
   "assignment_name": "lab6-ess314",
   "tests": {
    "q2": {
     "name": "q2",
     "points": 1,
     "suites": [
      {
       "cases": [
        {
         "code": ">>> np.issubdtype(type(contrast), np.number)\nTrue",
         "hidden": false,
         "locked": false
        }
       ],
       "scored": true,
       "setup": "",
       "teardown": "",
       "type": "doctest"
      }
     ]
    }
   }
  }
 },
 "nbformat": 4,
 "nbformat_minor": 1
}
