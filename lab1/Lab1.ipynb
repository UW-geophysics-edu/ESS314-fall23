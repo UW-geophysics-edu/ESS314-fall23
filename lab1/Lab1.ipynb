{
 "cells": [
  {
   "cell_type": "code",
   "execution_count": null,
   "metadata": {
    "deletable": false,
    "editable": false
   },
   "outputs": [],
   "source": [
    "# Initialize Otter\n",
    "import otter\n",
    "grader = otter.Notebook(\"Lab1.ipynb\")"
   ]
  },
  {
   "cell_type": "markdown",
   "metadata": {},
   "source": [
    "⚠️**Please first run the code cell above**. This cell initiates the auto-grader within the notebook. Note that the autograder only check if you are giving a **valid** answer, (e.g., type of answer), and thus passing the public tests does not necessarily mean you give the right answer, and consequently get the full points."
   ]
  },
  {
   "cell_type": "markdown",
   "metadata": {
    "id": "s3iu_wRpS8xc"
   },
   "source": [
    "# **ESS-314-Lab 1**\n",
    "* The lab was designed by Ken Creager, Harold Tobin, Anna Ledeczi and Marine Denolle.\n",
    "* Modified by Barrett Johnson (bnjo@uw.edu); \n",
    "* Made autograder available through Otter and GradeScope by Yiyu Ni (niyiyu@uw.edu).\n",
    "---"
   ]
  },
  {
   "cell_type": "markdown",
   "metadata": {
    "id": "Eds_9NmfSziJ"
   },
   "source": [
    "## **Lab 1A: Setting up Your Workspace**\n",
    "\n",
    "This lab focuses on helping students set up their workspace so that they can access the relevant\n",
    "software packages necessary for future lab work. *You do not need to turn anything in for portion 1A of the lab.*\n",
    "\n",
    "\n",
    "\n",
    " ### **Computer Resources**\n",
    "\n",
    "1. ***UW-JupyterHub*** **(highly recommended)** \n",
    "\n",
    " \n",
    "\n",
    "UW-IT set up a jupyter notebook for our course with pre-installed packages that you would need during the class. You can start one with the following link in your browser:\n",
    "\n",
    "https://jupyter.rttl.uw.edu/2023-autumn-ess-314-a/user-redirect/tree\n",
    "\n",
    "You will need UW ID credentials to get started. You can log in from the ESS Lab computers and from your laptop.\n",
    "\n",
    "You will be prompted to a Jupyter Notebook in Python. We thrive to use open-source python codes that should be available through our python environment or easy to install using simple commands.\n",
    "\n",
    "\n",
    "\n",
    "**Now, we will go through an example on how to get the hub ready**.\n",
    "\n",
    "* Log in to the server\n",
    "* To add files, you can click the upload button on the top and upload individual files and folders.\n",
    "* To download lab notebooks, open a **Terminal (command line tool)** window and type \n",
    "```\n",
    "wget  https://github.com/UW-geophysics-edu/ESS314-fall23/raw/main/Lab1.zip\n",
    "unzip Lab1.zip\n",
    "```\n",
    "The lab will be transfered to your environments. \n",
    "\n",
    "* The files that you add to the environment will be saved and left as is for future times.\n",
    "\n",
    "2. ***Google Colab***\n",
    "\n",
    "Google Colab is a free python notebook environment. It comes in with a built-in python environment. Once you open a notebook in Colab, click ``Connect`` on the top right, select ``Connect to a hosted runtime`` to launch your instance on the free Google Cloud Platform.\n",
    "\n",
    "To add packages, just use the following command **everytime** you log in (yes, Google don't hold your previous session), for instance:\n",
    "\n",
    "``!pip install mypackage``\n",
    "\n",
    "Actually these are **all** packcages during the lab session so save it if you are running notebooks on Google Colab because you would need this in your notebook.\n",
    "``!pip install otter-grader numpy matplotlib harmonica pyrocko obspy``\n",
    "\n",
    "⚠️Some packages (yes it's you obspy) may require extra step when running on Google Colab. You might need to restart your run time environment to make it fully functional.\n",
    "\n",
    "\n",
    "\n",
    "3. ***Your own Local Python***\n",
    "\n",
    "We created an conda environment in the class Github Page: https://github.com/UW-geophysics-edu/ess314-image/blob/main/environment.yml. Similar to the hub, open a terminal window. Note that you would need to install anaconda/miniconda (python environment & package manager) on your laptop.\n",
    "\n",
    "Move to the directory of choice and type:\n",
    "*  ``wget https://raw.githubusercontent.com/UW-geophysics-edu/ess314-image/main/environment.yml``\n",
    "* Create the conda environment: ``conda env create -f environment.yml``\n",
    "* start the conda environment: ``conda activate ess314``\n",
    "\n",
    "Now you are ready to do some pythoning!"
   ]
  },
  {
   "cell_type": "markdown",
   "metadata": {
    "id": "vh4X66FzoBMh"
   },
   "source": [
    "### **Getting Familiar with Shell scripting**\n",
    "\n",
    "Shell scripting allows you to navigate through your computer directories, files, and perform basic manipulation of text files. It can also allows you to run big simulations on large computers. It is extremely flexible!\n",
    "\n",
    "Start by opening a **Terminal** window. The basic commands you will need are:\n",
    "\n",
    "* ``pwd`` to see what directory you are in.\n",
    "* ``cd FOLDER`` to move to another directory\n",
    "* ``cd ../OTHER_FOLDER`` to move to another directory that is ahead of your current directory. This provides a *relative* path.\n",
    "* ``cd /home/user/whatever/your/path/is`` is you know the *absolute* path of the directory you want to go to.\n",
    "* ``ls `` it will list all of the files in the current directory\n",
    "* ``ls ./*``, exact same as above\n",
    "* ``ls ../*``, will list the files in the directory ahead of your current directory\n",
    "* ``mkdir NEW_DIRECTORY`` wil create a new directory\n",
    "* ``cp file to_new_directory`` will copy ``file`` to another directory\n",
    "* ``cp -r this_directory to_this_directory``, will copy a folder and everything within it into another directory.\n",
    "\n",
    "\n",
    "We recommend to take the SoftwareCarpentry classes if you want to learn more. They have sometimes workshop through UW/eScience, or you can follow their lessons on Shell scripting here: \n",
    "https://swcarpentry.github.io/shell-novice/\n",
    "\n",
    "---"
   ]
  },
  {
   "cell_type": "markdown",
   "metadata": {
    "id": "HBb5NmMAVVTB"
   },
   "source": [
    "## **Lab 1B: Introduction to Python**\n",
    "\n",
    "Python is an increasingly common scientific tool which we will be utilizing in this course. Lab 1B focuses on gettnig acquainted with Python basics."
   ]
  },
  {
   "cell_type": "markdown",
   "metadata": {
    "id": "mrapRBHdv_GC"
   },
   "source": [
    "**Setting Variables**"
   ]
  },
  {
   "cell_type": "markdown",
   "metadata": {
    "id": "7OJqYXMAw6aO"
   },
   "source": [
    " \n",
    "1.   Many basic commands are available in Python, including arithmetic functions. For example, type 2+2 into a code cell and press SHIFT+ENTER."
   ]
  },
  {
   "cell_type": "code",
   "execution_count": null,
   "metadata": {
    "colab": {
     "base_uri": "https://localhost:8080/"
    },
    "id": "phT_aoQzwNkJ",
    "outputId": "993f4bb8-e06a-4685-d3bb-0f49d268ea48"
   },
   "outputs": [],
   "source": [
    "2+2"
   ]
  },
  {
   "cell_type": "markdown",
   "metadata": {
    "id": "uQaUmjmrx2IE"
   },
   "source": [
    "2. Arithmetic operators are + for addition, - for subtraction, * for multiplication, and / for division. Raising a value to a power is accomplished by using ** (e.g. 3**2)."
   ]
  },
  {
   "cell_type": "markdown",
   "metadata": {
    "id": "AykQtz0RyGIM"
   },
   "source": [
    "3. Type a=2 into the next cell. This will assign the value 2 to the variable a, which will hold this value until it is reassigned. To reassign a, type a=3 in the next cell."
   ]
  },
  {
   "cell_type": "code",
   "execution_count": null,
   "metadata": {
    "id": "7iWOCVWAwP7O"
   },
   "outputs": [],
   "source": [
    "a = 2 \n",
    "# Make sure to add comments to your code as you go to ensure clarity"
   ]
  },
  {
   "cell_type": "code",
   "execution_count": null,
   "metadata": {
    "id": "f_Fgzb4OwRgg"
   },
   "outputs": [],
   "source": [
    "a = 3 # Here you could remark on what the variable a represents in your code"
   ]
  },
  {
   "cell_type": "markdown",
   "metadata": {
    "id": "_EbXyR2_ya7J"
   },
   "source": [
    "4. Assign a value to b. Now type c = a+b and Python will calculate the value of c. Note that Python will not print out the result of c automatically unless it is told to do so. To see the value of c, type print(c). "
   ]
  },
  {
   "cell_type": "code",
   "execution_count": null,
   "metadata": {
    "colab": {
     "base_uri": "https://localhost:8080/"
    },
    "id": "J-RfeqiHwTXb",
    "outputId": "48f5dbff-31ce-4407-bb42-3acb8a011cd0"
   },
   "outputs": [],
   "source": [
    "b = 4\n",
    "c = a + b\n",
    "c"
   ]
  },
  {
   "cell_type": "markdown",
   "metadata": {
    "id": "8PGTOjSdzBPL"
   },
   "source": [
    "5. There are several kinds of variables in Python. Numbers can be integers, like `a`, whole numbers without a decimal point. Numbers designated as float have a decimal value. For computational purposes, float numbers are more useful. Python also allows the designation of text, or 'strings' as variables. Type `d = 7.2` and `e = 'hello!'` to utilize float and string variables."
   ]
  },
  {
   "cell_type": "code",
   "execution_count": null,
   "metadata": {
    "id": "nscC4qLQwdh4"
   },
   "outputs": [],
   "source": [
    "d = 7.2\n",
    "e = 'hello!'"
   ]
  },
  {
   "cell_type": "markdown",
   "metadata": {
    "id": "kqX093s90UTO"
   },
   "source": [
    "6. To see all variables, their type, and their value, use the command %whos. Deleting a single variable can be accomplished using the command del following by the desired variable (e.g., del a). To delete all defined variables, use %reset. Check if the deletions were successful using %whos."
   ]
  },
  {
   "cell_type": "code",
   "execution_count": null,
   "metadata": {
    "colab": {
     "base_uri": "https://localhost:8080/"
    },
    "id": "XP40ACd1wrmw",
    "outputId": "d0db6b3a-783c-47ad-bb1c-12723175fb5c"
   },
   "outputs": [],
   "source": [
    "del a \n",
    "%whos"
   ]
  },
  {
   "cell_type": "markdown",
   "metadata": {
    "id": "RuVf09Cj1gkD"
   },
   "source": [
    "7. It is important to note that variables in Python can consist of numbers, upper and lowercase letters, and underscores. A variable name cannot start with a number. Variable names are generally more useful when they are more descriptive (e.g., gravity_anomaly rather than ga). "
   ]
  },
  {
   "cell_type": "markdown",
   "metadata": {
    "deletable": false,
    "editable": false,
    "id": "cIsn4c__1ZqA"
   },
   "source": [
    "<!-- BEGIN QUESTION -->\n",
    "\n",
    "**Question 1a:** What command would be used to clear just the b variable? (1 point)"
   ]
  },
  {
   "cell_type": "markdown",
   "metadata": {},
   "source": [
    "_Type your answer here, replacing this text._"
   ]
  },
  {
   "cell_type": "markdown",
   "metadata": {
    "deletable": false,
    "editable": false
   },
   "source": [
    "<!-- END QUESTION -->\n",
    "\n",
    "<!-- BEGIN QUESTION -->\n",
    "\n",
    "**Question 1b:** What command would be used to clear all variables? (1 point)"
   ]
  },
  {
   "cell_type": "markdown",
   "metadata": {},
   "source": [
    "_Type your answer here, replacing this text._"
   ]
  },
  {
   "cell_type": "markdown",
   "metadata": {
    "deletable": false,
    "editable": false
   },
   "source": [
    "<!-- END QUESTION -->\n",
    "\n",
    "**Question 1c:** Which of the following are valid variable names? Define and put your answer in a string variable called `answer_1c`, e.g., `\"145\"`. (2 points)\n",
    "1. *_n*\n",
    "2. *n6*\n",
    "3. *n_*\n",
    "4. *6n*\n",
    "5. *nnnnnnnnnnnnnnnnnnnnn*"
   ]
  },
  {
   "cell_type": "code",
   "execution_count": null,
   "metadata": {
    "tags": []
   },
   "outputs": [],
   "source": [
    "# Type your answer here\n",
    "answer_1c = ...\n",
    "answer_1c"
   ]
  },
  {
   "cell_type": "code",
   "execution_count": null,
   "metadata": {
    "deletable": false,
    "editable": false
   },
   "outputs": [],
   "source": [
    "grader.check(\"q1c\")"
   ]
  },
  {
   "cell_type": "markdown",
   "metadata": {
    "deletable": false,
    "editable": false
   },
   "source": [
    "<!-- BEGIN QUESTION -->\n",
    "\n",
    "**Question 1d:** What error message appears when you try to use an invalid variable name? (1 point)"
   ]
  },
  {
   "cell_type": "markdown",
   "metadata": {},
   "source": [
    "_Type your answer here, replacing this text._"
   ]
  },
  {
   "cell_type": "markdown",
   "metadata": {
    "deletable": false,
    "editable": false
   },
   "source": [
    "<!-- END QUESTION -->\n",
    "\n",
    "**More to read:** \n",
    "\n",
    "Actually, there is a whole convention of Python programming called PEP ([Python Enhancement Proposal](https://peps.python.org/pep-0008/)). It defines how you should define variables, constants, functions, and structure of your code. \n",
    "\n",
    "There are also tools checking whether your code follows these convention, and helps you correct them. Practice your coding, make the scripts more readible: not only for yourself but also others.\n",
    "\n",
    "---"
   ]
  },
  {
   "cell_type": "markdown",
   "metadata": {
    "id": "-ZSLNN2h3Mhd"
   },
   "source": [
    "**Basic Commands and NumPy**\n",
    "\n"
   ]
  },
  {
   "cell_type": "markdown",
   "metadata": {
    "id": "uNeHDtu93Urm"
   },
   "source": [
    "\n",
    "\n",
    "1.   In order to perform more advanced calculations, certain Python packages must be imported. For example, numerical python is a key package. To import this, use the command \n",
    "\n",
    "\n",
    "\n",
    "\n"
   ]
  },
  {
   "cell_type": "code",
   "execution_count": null,
   "metadata": {
    "id": "lLOD2oHM00jR"
   },
   "outputs": [],
   "source": [
    "import numpy as np"
   ]
  },
  {
   "cell_type": "markdown",
   "metadata": {
    "id": "yHQ2EtqO1GFd"
   },
   "source": [
    "2. To use numpy, commands must begin with np. For example, type np.pi and you will see the result printed to the screen. To round this number to a certain number of decimal places, assign the result to a variable, then use the function round, for example:\n"
   ]
  },
  {
   "cell_type": "code",
   "execution_count": null,
   "metadata": {
    "colab": {
     "base_uri": "https://localhost:8080/"
    },
    "id": "T3Fxxmbd1JE4",
    "outputId": "96aa5766-0f23-4351-bc56-fd3701de61ac"
   },
   "outputs": [],
   "source": [
    "pi = np.pi\n",
    "round(pi, 2)"
   ]
  },
  {
   "cell_type": "markdown",
   "metadata": {
    "id": "05gLzG876W8U"
   },
   "source": [
    "3. In numpy, log(x) calculates the natural log of a number. log10(x) will return the log base 10 and log2(x) will return the log base 2. \n"
   ]
  },
  {
   "cell_type": "code",
   "execution_count": null,
   "metadata": {
    "colab": {
     "base_uri": "https://localhost:8080/"
    },
    "id": "Wm_KPly5ad90",
    "outputId": "f6c1b3c7-db46-49de-bbfc-9d097dfdbde6"
   },
   "outputs": [],
   "source": [
    "np.log10(10)"
   ]
  },
  {
   "cell_type": "markdown",
   "metadata": {
    "id": "S8BsnlP5aeIO"
   },
   "source": [
    "\n",
    "4. The command np.sqrt() can be used to calculate the square root of positive numbers.\n"
   ]
  },
  {
   "cell_type": "code",
   "execution_count": null,
   "metadata": {
    "colab": {
     "base_uri": "https://localhost:8080/"
    },
    "id": "iKBPQfXsafqb",
    "outputId": "4b589236-62d1-4ec2-db27-3fe51edc14cc"
   },
   "outputs": [],
   "source": [
    "np.sqrt(3)"
   ]
  },
  {
   "cell_type": "markdown",
   "metadata": {
    "id": "MzOKRTDpaf-s"
   },
   "source": [
    "\n",
    "5. Trigonometric functions in NumPy take angles in radians, so make sure your input angles are not in degrees. You can also use the built-in NumPy conversion between degrees and radians."
   ]
  },
  {
   "cell_type": "code",
   "execution_count": null,
   "metadata": {
    "colab": {
     "base_uri": "https://localhost:8080/"
    },
    "id": "gXf_zX9hxSaB",
    "outputId": "918fac52-b79c-4d8e-f50b-23914e96a146"
   },
   "outputs": [],
   "source": [
    "print(np.sin(np.pi/2))\n",
    "print(np.sin(np.deg2rad(90))) # You can also use np.rad2deg() for other calculations"
   ]
  },
  {
   "cell_type": "markdown",
   "metadata": {
    "id": "Gcjex5HpzD9f"
   },
   "source": [
    "6. Inverse trigonometric functions can be calculated using np.arcsin(), np.arccos(), and np.arctan()."
   ]
  },
  {
   "cell_type": "code",
   "execution_count": null,
   "metadata": {
    "colab": {
     "base_uri": "https://localhost:8080/"
    },
    "id": "oD2w9svEax9H",
    "outputId": "a9724add-43b7-43b2-b24f-b007a0677cc1"
   },
   "outputs": [],
   "source": [
    "print(np.arcsin(np.sin(np.pi/3)))\n",
    "print(np.pi/3)"
   ]
  },
  {
   "cell_type": "markdown",
   "metadata": {
    "deletable": false,
    "editable": false,
    "id": "fU8WEGBq698H"
   },
   "source": [
    "<!-- BEGIN QUESTION -->\n",
    "\n",
    "**Question 2a:**  What is the command to return the value of e (Euler’s number)? (1 point)"
   ]
  },
  {
   "cell_type": "markdown",
   "metadata": {},
   "source": [
    "_Type your answer here, replacing this text._"
   ]
  },
  {
   "cell_type": "markdown",
   "metadata": {
    "deletable": false,
    "editable": false
   },
   "source": [
    "<!-- END QUESTION -->\n",
    "\n",
    "**Question 2b:** What is the sin of 270 degrees? (1 point)"
   ]
  },
  {
   "cell_type": "code",
   "execution_count": null,
   "metadata": {
    "tags": []
   },
   "outputs": [],
   "source": [
    "# Type your answer here\n",
    "answer_2b = ...\n",
    "answer_2b"
   ]
  },
  {
   "cell_type": "code",
   "execution_count": null,
   "metadata": {
    "deletable": false,
    "editable": false
   },
   "outputs": [],
   "source": [
    "grader.check(\"q2b\")"
   ]
  },
  {
   "cell_type": "markdown",
   "metadata": {
    "deletable": false,
    "editable": false
   },
   "source": [
    "**Question 2c:** What is arccos(0.5) in degrees? (1 point)"
   ]
  },
  {
   "cell_type": "code",
   "execution_count": null,
   "metadata": {
    "tags": []
   },
   "outputs": [],
   "source": [
    "# Type your answer here\n",
    "answer_2c = ...\n",
    "answer_2c"
   ]
  },
  {
   "cell_type": "code",
   "execution_count": null,
   "metadata": {
    "deletable": false,
    "editable": false
   },
   "outputs": [],
   "source": [
    "grader.check(\"q2c\")"
   ]
  },
  {
   "cell_type": "markdown",
   "metadata": {
    "deletable": false,
    "editable": false
   },
   "source": [
    "**Question 2d:** What is arccos(0.5) in radians? (1 point)"
   ]
  },
  {
   "cell_type": "code",
   "execution_count": null,
   "metadata": {
    "tags": []
   },
   "outputs": [],
   "source": [
    "# Type your answer here\n",
    "answer_2d = ...\n",
    "answer_2d"
   ]
  },
  {
   "cell_type": "code",
   "execution_count": null,
   "metadata": {
    "deletable": false,
    "editable": false
   },
   "outputs": [],
   "source": [
    "grader.check(\"q2d\")"
   ]
  },
  {
   "cell_type": "markdown",
   "metadata": {
    "id": "E_xrFhN0qow-"
   },
   "source": [
    "**Vectors and Matrices**\n",
    "\n",
    "NumPy can be utilized to create \"arrays\", which function as vectors or matrices. The size of a matrix with r rows and c columns is 𝑟 × 𝑐. Think of a row vector as a matrix with 𝑟 = 1, and a column vector as a matrix with 𝑐 = 1.\n",
    "\n",
    "1.  Use the command np.array() to create row and column vectors as follows:"
   ]
  },
  {
   "cell_type": "code",
   "execution_count": null,
   "metadata": {
    "colab": {
     "base_uri": "https://localhost:8080/"
    },
    "id": "2yr-0FFSznKH",
    "outputId": "49d45dfc-2854-4c77-c6b2-0bb800c43d38"
   },
   "outputs": [],
   "source": [
    "row_vector = np.array([[1, 2, 3]])\n",
    "print(row_vector)\n",
    "\n",
    "col_vector = np.array([[1], [2], [3]])\n",
    "print(col_vector)\n",
    "\n",
    "# You can check that these vectors are indeed the dimensions you seek by using the following command:\n",
    "\n",
    "print(row_vector.shape) # Should be (1, 3) for (r, c)\n",
    "print(col_vector.shape) # Should be (3, 1) for (r, c)"
   ]
  },
  {
   "cell_type": "markdown",
   "metadata": {
    "id": "HUZFU-PU0q4D"
   },
   "source": [
    "2. Selecting specific values in a vector or matrix is known as indexing. Start by creating a 3 x 4 matrix as follows."
   ]
  },
  {
   "cell_type": "code",
   "execution_count": null,
   "metadata": {
    "colab": {
     "base_uri": "https://localhost:8080/"
    },
    "id": "cXSXVtWV0wzM",
    "outputId": "ef31d8c4-237a-4034-8dbc-b7ed662ba004"
   },
   "outputs": [],
   "source": [
    "matrix = np.array([[1, 2, 3, 4], [5, 6, 7, 8], [9, 10, 11, 12]])\n",
    "print(matrix)"
   ]
  },
  {
   "cell_type": "markdown",
   "metadata": {
    "id": "8UusThFZ1EAu"
   },
   "source": [
    "To select elements within the matrix, specify their location within the rows and columns, making sure to begin counting at 0. If you are used to MATLAB, it is important to remember that **Python indexing starts at 0, not 1**. Here are some examples of indexing:"
   ]
  },
  {
   "cell_type": "code",
   "execution_count": null,
   "metadata": {
    "colab": {
     "base_uri": "https://localhost:8080/"
    },
    "id": "I8HWL4DD0_E5",
    "outputId": "93f55769-3f2c-4d80-c9c6-3826ec39e390"
   },
   "outputs": [],
   "source": [
    "print(matrix[1,2]) # The number 7\n",
    "print(matrix[2,0]) # The number 9\n",
    "print(matrix[0, :]) # The first row\n",
    "column1 = matrix[:, 0] # The first column - but note it only has one dimension\n",
    "print(column1)\n",
    "column1.shape # but note it only has one dimension and is not technically a 'row' or 'column'\n",
    "\n",
    "matrixT = np.transpose(matrix) # Transpose a matrix using this command\n",
    "print(matrixT)"
   ]
  },
  {
   "cell_type": "markdown",
   "metadata": {
    "id": "QtdzVeAE4Gia"
   },
   "source": [
    "3. There are other ways to create more specialized kinds of arrays, such as those made out of zeroes, ones, or a linearly spaced array."
   ]
  },
  {
   "cell_type": "code",
   "execution_count": null,
   "metadata": {
    "colab": {
     "base_uri": "https://localhost:8080/"
    },
    "id": "W9QoCrSE1fUS",
    "outputId": "2fbc5961-4f31-46bb-d7be-d262abae944a"
   },
   "outputs": [],
   "source": [
    "print(np.zeros([3,1]))\n",
    "\n",
    "print(np.ones([4,1]))\n",
    "\n",
    "print(np.linspace(0,10,5)) # Specify start, stop, and the number of elements for a linearly spaced array\n",
    "\n",
    "print(np.arange(0, 10, 2)) # Specify start, stop, and spacing\n",
    "\n",
    "# Note the difference between the following: \n",
    "\n",
    "print(np.linspace(0,10,10))\n",
    "print(np.linspace(0,10,11))"
   ]
  },
  {
   "cell_type": "markdown",
   "metadata": {
    "id": "RkXjNvK-5ngd"
   },
   "source": [
    "4. You can concatenate or truncate vectors once they are created. The two arrays must have the same shape, except in the direction of the axis. "
   ]
  },
  {
   "cell_type": "code",
   "execution_count": null,
   "metadata": {
    "colab": {
     "base_uri": "https://localhost:8080/"
    },
    "id": "nOUQVnkL4glx",
    "outputId": "086d4d2e-e073-4ec9-ddb9-8daf1021caf1"
   },
   "outputs": [],
   "source": [
    "g = np.ones([4,3])\n",
    "print(g)\n",
    "\n",
    "h = np.zeros([2,3])\n",
    "print(h)\n",
    "\n",
    "i = np.concatenate((g,h)) # axis is assumed 0 unless specified \n",
    "print(i)\n",
    "\n",
    "\n",
    "j = np.ones([1,2])\n",
    "print(j)\n",
    "\n",
    "k = np.zeros([1, 3])\n",
    "print(k)\n",
    "\n",
    "l = np.concatenate((j, k), axis=1)\n",
    "print(l)\n",
    "\n",
    "m = np.concatenate((k, j), axis=1) # reverses the order from above\n",
    "print(m)"
   ]
  },
  {
   "cell_type": "code",
   "execution_count": null,
   "metadata": {
    "id": "t-zJqYl56xVc"
   },
   "outputs": [],
   "source": [
    "# Use these for Question 3\n",
    "\n",
    "v = np.array([[1, 2, 3]])\n",
    "w = np.array([[1], [2], [3]])"
   ]
  },
  {
   "cell_type": "markdown",
   "metadata": {
    "deletable": false,
    "editable": false
   },
   "source": [
    "**Question 3a:** What is the difference between v and w? (1 point)"
   ]
  },
  {
   "cell_type": "code",
   "execution_count": null,
   "metadata": {
    "tags": []
   },
   "outputs": [],
   "source": [
    "# Type your answer here\n",
    "answer_3a = ...\n",
    "answer_3a"
   ]
  },
  {
   "cell_type": "code",
   "execution_count": null,
   "metadata": {
    "deletable": false,
    "editable": false
   },
   "outputs": [],
   "source": [
    "grader.check(\"q3a\")"
   ]
  },
  {
   "cell_type": "markdown",
   "metadata": {
    "deletable": false,
    "editable": false
   },
   "source": [
    "<!-- BEGIN QUESTION -->\n",
    "\n",
    "**Question 3b:** Explain the function of np.transpose(). (1 point)"
   ]
  },
  {
   "cell_type": "markdown",
   "metadata": {},
   "source": [
    "_Type your answer here, replacing this text._"
   ]
  },
  {
   "cell_type": "markdown",
   "metadata": {
    "deletable": false,
    "editable": false
   },
   "source": [
    "<!-- END QUESTION -->\n",
    "\n",
    "**Question 3c:** Create a matrix with three columns, each of which is a copy of vector w. (1 point)"
   ]
  },
  {
   "cell_type": "code",
   "execution_count": null,
   "metadata": {
    "tags": []
   },
   "outputs": [],
   "source": [
    "# Type your answer here\n",
    "answer_3c = ...\n",
    "answer_3c"
   ]
  },
  {
   "cell_type": "code",
   "execution_count": null,
   "metadata": {
    "deletable": false,
    "editable": false
   },
   "outputs": [],
   "source": [
    "grader.check(\"q3c\")"
   ]
  },
  {
   "cell_type": "markdown",
   "metadata": {
    "deletable": false,
    "editable": false,
    "id": "K_hYsu6j8_zq"
   },
   "source": [
    "<!-- BEGIN QUESTION -->\n",
    "\n",
    "**Question 3d:** How to select the entire third column of the matrix you just created? (1 point)"
   ]
  },
  {
   "cell_type": "markdown",
   "metadata": {},
   "source": [
    "_Type your answer here, replacing this text._"
   ]
  },
  {
   "cell_type": "markdown",
   "metadata": {
    "deletable": false,
    "editable": false,
    "id": "-1Mn7wUf6Z_o"
   },
   "source": [
    "<!-- END QUESTION -->\n",
    "\n",
    "**Operations with Vectors and Matrices**\n",
    "\n"
   ]
  },
  {
   "cell_type": "code",
   "execution_count": null,
   "metadata": {
    "id": "s2AFFYiy8ZUS"
   },
   "outputs": [],
   "source": [
    "v = np.array([[1, 2, 3]])\n",
    "w = np.array([[1], [2], [3]])\n",
    "p = ([[3, 4, 5, 6]])\n",
    "M = np.array([[1, 2, 3], [4, 5, 6], [7, 8, 9]])\n",
    "N = np.concatenate((v, v, v))"
   ]
  },
  {
   "cell_type": "markdown",
   "metadata": {
    "id": "3ctDjZvEY1xv"
   },
   "source": [
    "1. Adding a scalar to a vector or matrix is the same as adding two scalar values. Similarly,\n",
    "multiplying a vector or matrix by a scalar value looks just like multiplying two scalars.\n",
    "a. To add 2 to all elements of your vector v, type v+2.\n",
    "b. To multiply each element of matrix M by 3, type M*3."
   ]
  },
  {
   "cell_type": "code",
   "execution_count": null,
   "metadata": {
    "colab": {
     "base_uri": "https://localhost:8080/"
    },
    "id": "_VfcutaRYyRJ",
    "outputId": "3a0961f6-23dc-4911-e8b4-e2f508a8d3da"
   },
   "outputs": [],
   "source": [
    "print(v+2)\n",
    "print(M*3)"
   ]
  },
  {
   "cell_type": "markdown",
   "metadata": {
    "id": "-r9KqlgJZoic"
   },
   "source": [
    "2. Adding two matrices may work differently than you expect. Try adding v+N, v+p, v+w"
   ]
  },
  {
   "cell_type": "code",
   "execution_count": null,
   "metadata": {
    "colab": {
     "base_uri": "https://localhost:8080/"
    },
    "id": "hwXNNEamY8Xr",
    "outputId": "7676a703-9cab-4634-ff67-5ff9cad5c1a4"
   },
   "outputs": [],
   "source": [
    "v+N"
   ]
  },
  {
   "cell_type": "markdown",
   "metadata": {
    "id": "J26dQxJcZ2ay"
   },
   "source": [
    "3. To perform matrix multiplication, just multiply the two matrices by each other. Recall\n",
    "that to multiply two matrices together, the number of columns in the first must equal\n",
    "the number of rows in the second.\n",
    "a. Try multiplying vector v by vector w. Make sure and show that they have the complementary dimensions."
   ]
  },
  {
   "cell_type": "code",
   "execution_count": null,
   "metadata": {
    "colab": {
     "base_uri": "https://localhost:8080/"
    },
    "id": "JazWdY7hZlzT",
    "outputId": "e54557f0-e5f3-4ddf-c756-adde6b8da7f7"
   },
   "outputs": [],
   "source": [
    "print(v.shape)\n",
    "print(w.shape)\n",
    "v*w"
   ]
  },
  {
   "cell_type": "markdown",
   "metadata": {
    "id": "yMMTtfu-Z-Y7"
   },
   "source": [
    "4. For square matrices, you can also raise the matrix to a power using the same function as\n",
    "you did with scalar values. Square the matrix M using the command M**2, then review\n",
    "the output."
   ]
  },
  {
   "cell_type": "code",
   "execution_count": null,
   "metadata": {
    "colab": {
     "base_uri": "https://localhost:8080/"
    },
    "id": "wRMWS2LKZ4TY",
    "outputId": "0ff2146b-b90a-4c05-86c5-2c4a2c6cfd90"
   },
   "outputs": [],
   "source": [
    "M**2"
   ]
  },
  {
   "cell_type": "markdown",
   "metadata": {
    "id": "xylu7k0maHnS"
   },
   "source": [
    "5. Operations that apply to each element of the matrix individually are sometimes called array operations or element-wise operations. Many functions, such as trig functions, will operate on a matrix element-by-element. For example, try np.sin(N)."
   ]
  },
  {
   "cell_type": "code",
   "execution_count": null,
   "metadata": {
    "colab": {
     "base_uri": "https://localhost:8080/"
    },
    "id": "s7ioHsu0aAA6",
    "outputId": "1ed04c41-9929-40ac-8191-3057dbc46132"
   },
   "outputs": [],
   "source": [
    "np.sin(N)"
   ]
  },
  {
   "cell_type": "markdown",
   "metadata": {
    "deletable": false,
    "editable": false
   },
   "source": [
    "<!-- BEGIN QUESTION -->\n",
    "\n",
    "**Question 4:** What does Python do when you ask it to add v+M? What about p+M? Describe as best you can from your own experiments the logic that Python uses to add two matrices together. Include any relevant errors that might occur. (1 point)"
   ]
  },
  {
   "cell_type": "markdown",
   "metadata": {},
   "source": [
    "_Type your answer here, replacing this text._"
   ]
  },
  {
   "cell_type": "markdown",
   "metadata": {
    "deletable": false,
    "editable": false
   },
   "source": [
    "<!-- END QUESTION -->\n",
    "\n",
    "---"
   ]
  },
  {
   "cell_type": "markdown",
   "metadata": {
    "id": "v21pOH8Gbbqx"
   },
   "source": [
    "**Plotting**\n",
    "\n",
    "\n",
    "\n",
    "1.   Visualization is important! Plotting in Python requires importing another package, known as matplotlib. You can find tutorials and self-teach yourself about plotting in Python on the Matplotlib tutorial page: https://matplotlib.org/stable/tutorials/index.html\n",
    "\n"
   ]
  },
  {
   "cell_type": "code",
   "execution_count": null,
   "metadata": {
    "id": "P54mcCaIbdTs"
   },
   "outputs": [],
   "source": [
    "import matplotlib.pyplot as plt \n",
    "# You will have to run this import cell each time you open the notebook"
   ]
  },
  {
   "cell_type": "markdown",
   "metadata": {
    "id": "gtPwc_o3KS0I"
   },
   "source": [
    "2. Create a row vector x with the numbers 1 through 50. Then, use the sine function to vector y where each element is the sine of the corresponding value in x."
   ]
  },
  {
   "cell_type": "code",
   "execution_count": null,
   "metadata": {
    "id": "b0zSVjFTKbY8"
   },
   "outputs": [],
   "source": [
    "x = np.linspace(1,50,50)\n",
    "y = np.sin(x)"
   ]
  },
  {
   "cell_type": "markdown",
   "metadata": {
    "id": "nM_F0KXlL0tj"
   },
   "source": [
    "3. Create a simple plot using matplotlib."
   ]
  },
  {
   "cell_type": "code",
   "execution_count": null,
   "metadata": {
    "id": "6yQseom3MZPy"
   },
   "outputs": [],
   "source": [
    "plt.figure(figsize=(10, 5), dpi=100) # define the figure size and resolution\n",
    "plt.plot(x,y,'g:') # 'g:' defines the color (g) and the pattern (:) of the lines here. \n",
    "# You can search for color legends and more line patterns. - is a line, o is dots. \n",
    "plt.xlabel('x label')\n",
    "plt.ylabel('y label')\n",
    "plt.title(\"Example Plot 1\")\n",
    "plt.show()"
   ]
  },
  {
   "cell_type": "markdown",
   "metadata": {
    "id": "kxxDgtI9SjmW"
   },
   "source": [
    "4. Create a figure with 2 subplots."
   ]
  },
  {
   "cell_type": "code",
   "execution_count": null,
   "metadata": {
    "id": "NSJBr9BbKjU7"
   },
   "outputs": [],
   "source": [
    "z = np.cos(x)"
   ]
  },
  {
   "cell_type": "code",
   "execution_count": null,
   "metadata": {
    "colab": {
     "base_uri": "https://localhost:8080/",
     "height": 232
    },
    "id": "Z-HI1ZlvLzrc",
    "outputId": "4861d135-0f4e-4b6b-c210-809e835b02ef"
   },
   "outputs": [],
   "source": [
    "plt.figure(figsize=(10, 5), dpi=100) # control how many rows and columns here\n",
    "\n",
    "plt.subplot(1, 2, 1) # split figure into 1 row, 2 columns, and plot on the 1st subplot\n",
    "plt.plot(x,y, 'r-', label='sin(x)')\n",
    "plt.title('Example Plot 2a')\n",
    "plt.xlabel('This is x (radians)')\n",
    "plt.ylabel('Sine of x')\n",
    "plt.legend()\n",
    "\n",
    "plt.subplot(1, 2, 2) # split figure into 1 row, 2 columns, and plot on the 2nd subplot\n",
    "plt.plot(x, z, 'bo', label='cos(x)')\n",
    "plt.title('Example Plot 2b')\n",
    "plt.xlabel('This is x (radians)')\n",
    "plt.ylabel('Cosine of x')\n",
    "plt.legend()\n",
    "\n",
    "plt.tight_layout() # This will add space between your subplots (try commenting out this line!)\n",
    "plt.show()\n",
    "\n",
    "# Use the following command to save the image\n",
    "plt.savefig('example.png')"
   ]
  },
  {
   "cell_type": "markdown",
   "metadata": {
    "id": "ltDWL7hgSm1h"
   },
   "source": [
    "5. Redefine x with twice as many points (i.e., define x as a row vector from 1 to 50, but include points at every half integer). Try to plot x and y again. What's wrong?"
   ]
  },
  {
   "cell_type": "code",
   "execution_count": null,
   "metadata": {
    "id": "o9Tfi7F3N1fG"
   },
   "outputs": [],
   "source": [
    "x = np.linspace(1,50,99)\n",
    "fig = plt.plot(x, y, 'b-')"
   ]
  },
  {
   "cell_type": "markdown",
   "metadata": {
    "deletable": false,
    "editable": false,
    "id": "mOTW4yeLUiKK"
   },
   "source": [
    "<!-- BEGIN QUESTION -->\n",
    "\n",
    "**Question 5a:** Redefine y as appropriate. Keep iterating on the resolution of x and y until you're satisfied that the graph looks like a sine wave. Add a title and axis labels. (1 point)\n",
    "\n",
    "Hint: you can use ?np.linspace to check manual of the function quickly."
   ]
  },
  {
   "cell_type": "code",
   "execution_count": null,
   "metadata": {
    "deletable": false,
    "editable": false
   },
   "outputs": [],
   "source": [
    "?np.linspace"
   ]
  },
  {
   "cell_type": "code",
   "execution_count": null,
   "metadata": {
    "tags": []
   },
   "outputs": [],
   "source": [
    "# Type your answer here\n",
    "x = ...\n",
    "y = ...\n",
    "plt.figure(figsize=(10, 5), dpi=100)\n",
    "plt.scatter()\n",
    "..."
   ]
  },
  {
   "cell_type": "markdown",
   "metadata": {
    "deletable": false,
    "editable": false
   },
   "source": [
    "<!-- END QUESTION -->\n",
    "\n",
    "**Question 5b:** Create a row vector from 0 – 100, counting by 5 (i.e. [0 5 10 15 20 … 100])? Define and put your answer in a string variable called `x`. (1 point)"
   ]
  },
  {
   "cell_type": "code",
   "execution_count": null,
   "metadata": {
    "tags": []
   },
   "outputs": [],
   "source": [
    "# Type your answer here\n",
    "x = ....\n",
    "x"
   ]
  },
  {
   "cell_type": "code",
   "execution_count": null,
   "metadata": {
    "deletable": false,
    "editable": false
   },
   "outputs": [],
   "source": [
    "grader.check(\"q5b\")"
   ]
  },
  {
   "cell_type": "markdown",
   "metadata": {
    "deletable": false,
    "editable": false
   },
   "source": [
    "<!-- BEGIN QUESTION -->\n",
    "\n",
    "**Question 5c:** Plot x and y with maroon upward-facing triangles? (1 point)\n",
    "\n",
    "Hint: check the manual here: \n",
    "- plt.plot: https://matplotlib.org/stable/api/_as_gen/matplotlib.pyplot.plot.html\n",
    "- Markers: https://matplotlib.org/stable/api/markers_api.html#module-matplotlib.markers"
   ]
  },
  {
   "cell_type": "code",
   "execution_count": null,
   "metadata": {
    "tags": []
   },
   "outputs": [],
   "source": [
    "# Type your answer here\n",
    "plt.figure(figsize = (10, 4), dpi = 100)\n",
    "..."
   ]
  },
  {
   "cell_type": "markdown",
   "metadata": {
    "deletable": false,
    "editable": false
   },
   "source": [
    "<!-- END QUESTION -->\n",
    "\n",
    "### Plot two functions on the same plot. "
   ]
  },
  {
   "cell_type": "markdown",
   "metadata": {
    "deletable": false,
    "editable": false,
    "id": "9UfQf1OuUWrk"
   },
   "source": [
    "**Question 6a:** Define a new row vector `x` where the values range from 1 to 90 **in degree** with a 0.5 interval (1, 1.5, 2, ...), and **convert the vector to radian**. (1 point)"
   ]
  },
  {
   "cell_type": "code",
   "execution_count": null,
   "metadata": {
    "tags": []
   },
   "outputs": [],
   "source": [
    "# Type your answer here\n",
    "x = ...\n",
    "x"
   ]
  },
  {
   "cell_type": "code",
   "execution_count": null,
   "metadata": {
    "deletable": false,
    "editable": false
   },
   "outputs": [],
   "source": [
    "grader.check(\"q6a\")"
   ]
  },
  {
   "cell_type": "markdown",
   "metadata": {
    "deletable": false,
    "editable": false
   },
   "source": [
    "**Question 6b:** Define a vector y that is equal to x^2 + 50cos(x + 30). (1 point)"
   ]
  },
  {
   "cell_type": "code",
   "execution_count": null,
   "metadata": {
    "tags": []
   },
   "outputs": [],
   "source": [
    "# Type your answer here\n",
    "y = ...\n",
    "y"
   ]
  },
  {
   "cell_type": "code",
   "execution_count": null,
   "metadata": {
    "deletable": false,
    "editable": false
   },
   "outputs": [],
   "source": [
    "grader.check(\"q6b\")"
   ]
  },
  {
   "cell_type": "markdown",
   "metadata": {
    "deletable": false,
    "editable": false
   },
   "source": [
    "**Question 6c:** Define a vector z that is equal to 1.5(tan(y)). (1 point)"
   ]
  },
  {
   "cell_type": "code",
   "execution_count": null,
   "metadata": {
    "tags": []
   },
   "outputs": [],
   "source": [
    "# Type your answer here\n",
    "z = ...\n",
    "z"
   ]
  },
  {
   "cell_type": "code",
   "execution_count": null,
   "metadata": {
    "deletable": false,
    "editable": false
   },
   "outputs": [],
   "source": [
    "grader.check(\"q6c\")"
   ]
  },
  {
   "cell_type": "markdown",
   "metadata": {
    "deletable": false,
    "editable": false
   },
   "source": [
    "<!-- BEGIN QUESTION -->\n",
    "\n",
    "**Question 6d:** Plot y vs. x and z vs. x on the same graph. (2 points)\n",
    "* Plot the y function as a blue solid line, and the z function as a red dotted line.\n",
    "* Add a title, and label the x axes `x`, `y(x)` and `z(y(x))`, respectively."
   ]
  },
  {
   "cell_type": "code",
   "execution_count": null,
   "metadata": {
    "tags": []
   },
   "outputs": [],
   "source": [
    "# Type your answer here\n",
    "plt.figure(figsize = (10, 4), dpi = 100)\n",
    "plt.plot(...)\n",
    "plt.legend()\n",
    "plt.xlabel(...)\n",
    "..."
   ]
  },
  {
   "cell_type": "markdown",
   "metadata": {
    "deletable": false,
    "editable": false
   },
   "source": [
    "<!-- END QUESTION -->\n",
    "\n"
   ]
  },
  {
   "cell_type": "markdown",
   "metadata": {
    "deletable": false,
    "editable": false
   },
   "source": [
    "## Submission\n",
    "\n",
    "Make sure you have run all cells in your notebook in order before running the cell below, so that all images/graphs appear in the output. The cell below will generate a zip file for you to submit. **Please save before exporting!**\n",
    "\n",
    "These are the lab 1 of ESS 314 Autumn 2023."
   ]
  },
  {
   "cell_type": "code",
   "execution_count": null,
   "metadata": {
    "deletable": false,
    "editable": false
   },
   "outputs": [],
   "source": [
    "# Save your notebook first, then run this cell to export your submission.\n",
    "grader.export(pdf=False, run_tests=True)"
   ]
  },
  {
   "cell_type": "markdown",
   "metadata": {},
   "source": [
    " "
   ]
  }
 ],
 "metadata": {
  "colab": {
   "collapsed_sections": [],
   "name": "Lab1.ipynb",
   "provenance": []
  },
  "kernelspec": {
   "display_name": "Python 3 (ipykernel)",
   "language": "python",
   "name": "python3"
  },
  "language_info": {
   "codemirror_mode": {
    "name": "ipython",
    "version": 3
   },
   "file_extension": ".py",
   "mimetype": "text/x-python",
   "name": "python",
   "nbconvert_exporter": "python",
   "pygments_lexer": "ipython3",
   "version": "3.8.17"
  },
  "otter": {
   "OK_FORMAT": true,
   "assignment_name": "lab1-ess314",
   "tests": {
    "q1c": {
     "name": "q1c",
     "points": 2,
     "suites": [
      {
       "cases": [
        {
         "code": ">>> type(answer_1c) == str\nTrue",
         "hidden": false,
         "locked": false
        }
       ],
       "scored": true,
       "setup": "",
       "teardown": "",
       "type": "doctest"
      }
     ]
    },
    "q2b": {
     "name": "q2b",
     "points": 1,
     "suites": [
      {
       "cases": [
        {
         "code": ">>> np.issubdtype(type(answer_2b), np.number)\nTrue",
         "hidden": false,
         "locked": false
        }
       ],
       "scored": true,
       "setup": "",
       "teardown": "",
       "type": "doctest"
      }
     ]
    },
    "q2c": {
     "name": "q2c",
     "points": 1,
     "suites": [
      {
       "cases": [
        {
         "code": ">>> np.issubdtype(type(answer_2c), np.number)\nTrue",
         "hidden": false,
         "locked": false
        }
       ],
       "scored": true,
       "setup": "",
       "teardown": "",
       "type": "doctest"
      }
     ]
    },
    "q2d": {
     "name": "q2d",
     "points": 1,
     "suites": [
      {
       "cases": [
        {
         "code": ">>> np.issubdtype(type(answer_2d), np.number)\nTrue",
         "hidden": false,
         "locked": false
        }
       ],
       "scored": true,
       "setup": "",
       "teardown": "",
       "type": "doctest"
      }
     ]
    },
    "q3a": {
     "name": "q3a",
     "points": 1,
     "suites": [
      {
       "cases": [
        {
         "code": ">>> type(answer_3a) == np.ndarray\nTrue",
         "hidden": false,
         "locked": false
        }
       ],
       "scored": true,
       "setup": "",
       "teardown": "",
       "type": "doctest"
      }
     ]
    },
    "q3c": {
     "name": "q3c",
     "points": 1,
     "suites": [
      {
       "cases": [
        {
         "code": ">>> type(answer_3c) == np.ndarray\nTrue",
         "hidden": false,
         "locked": false
        }
       ],
       "scored": true,
       "setup": "",
       "teardown": "",
       "type": "doctest"
      }
     ]
    },
    "q5b": {
     "name": "q5b",
     "points": 1,
     "suites": [
      {
       "cases": [
        {
         "code": ">>> type(x) == np.ndarray\nTrue",
         "hidden": false,
         "locked": false
        }
       ],
       "scored": true,
       "setup": "",
       "teardown": "",
       "type": "doctest"
      }
     ]
    },
    "q6a": {
     "name": "q6a",
     "points": 1,
     "suites": [
      {
       "cases": [
        {
         "code": ">>> type(x) == np.ndarray\nTrue",
         "hidden": false,
         "locked": false
        }
       ],
       "scored": true,
       "setup": "",
       "teardown": "",
       "type": "doctest"
      }
     ]
    },
    "q6b": {
     "name": "q6b",
     "points": 1,
     "suites": [
      {
       "cases": [
        {
         "code": ">>> type(y) == np.ndarray\nTrue",
         "hidden": false,
         "locked": false
        }
       ],
       "scored": true,
       "setup": "",
       "teardown": "",
       "type": "doctest"
      }
     ]
    },
    "q6c": {
     "name": "q6c",
     "points": null,
     "suites": [
      {
       "cases": [
        {
         "code": ">>> type(z) == np.ndarray\nTrue",
         "hidden": false,
         "locked": false
        }
       ],
       "scored": true,
       "setup": "",
       "teardown": "",
       "type": "doctest"
      }
     ]
    }
   }
  }
 },
 "nbformat": 4,
 "nbformat_minor": 1
}
