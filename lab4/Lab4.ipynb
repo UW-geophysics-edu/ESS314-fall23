{
 "cells": [
  {
   "cell_type": "code",
   "execution_count": null,
   "metadata": {
    "deletable": false,
    "editable": false
   },
   "outputs": [],
   "source": [
    "# Initialize Otter\n",
    "import otter\n",
    "grader = otter.Notebook(\"Lab4.ipynb\")"
   ]
  },
  {
   "cell_type": "markdown",
   "metadata": {
    "id": "Wl1AeGP5iCxR"
   },
   "source": [
    "# **ESS 314: Lab 4**\n",
    "\n",
    "**Plotting travel-time curves from reflected waves in Python**"
   ]
  },
  {
   "cell_type": "markdown",
   "metadata": {
    "id": "Mjlg9mh6jx63"
   },
   "source": [
    "Imagine a source 10 m from the first receiver (i.e., geophone) in a 10-geophone line.\n",
    "The spacing between geophones is 10 m. We also know that the thickness of the layer\n",
    "closest to the surface is 20 m. The velocity of layer 1 is 2000 m/s and the velocity of\n",
    "layer 2 is 4000 m/s.\n",
    "\n",
    "![](source_receiver_geometry.png)"
   ]
  },
  {
   "cell_type": "markdown",
   "metadata": {},
   "source": [
    "### Import packages that are used in the notebook\n",
    "You would need to do this everytime you start a new notebook."
   ]
  },
  {
   "cell_type": "code",
   "execution_count": null,
   "metadata": {},
   "outputs": [],
   "source": [
    "import numpy as np\n",
    "import matplotlib.pyplot as plt\n",
    "from pyrocko import cake\n",
    "import pandas as pd"
   ]
  },
  {
   "cell_type": "markdown",
   "metadata": {},
   "source": [
    "We use the same code from lab 3 that defines a layered model, with one 20 meters homogeneous layer. The Vp of layer1 is `2000 (m/s)`. **We still won't use S-wave phases during this lab.**"
   ]
  },
  {
   "cell_type": "code",
   "execution_count": null,
   "metadata": {},
   "outputs": [],
   "source": [
    "m_layer1 = cake.Material(vp=2000.)\n",
    "m_layer2 = cake.Material(vp=4000.)\n",
    "\n",
    "model = cake.LayeredModel()\n",
    "model.append(cake.Surface(z=0., mbelow=m_layer1))\n",
    "model.append(cake.HomogeneousLayer(0., 20., m_layer1, name='layer1'))\n",
    "model.append(cake.Interface(z=20., mabove=m_layer1, mbelow=m_layer2, name=\"interface1\"))"
   ]
  },
  {
   "cell_type": "markdown",
   "metadata": {},
   "source": [
    "Similar to lab 3, we define the source to be sightly below the surface, and receivers arranges at 10, 20, 30, ... 100 meters."
   ]
  },
  {
   "cell_type": "code",
   "execution_count": null,
   "metadata": {},
   "outputs": [],
   "source": [
    "source_depth = 0.01 # in meters\n",
    "distances = np.arange(10, 101, 10) * cake.m2d  # convert meter to degree"
   ]
  },
  {
   "cell_type": "markdown",
   "metadata": {},
   "source": [
    "Here we define the phase that we calculate the travel time. There is a subtle difference in the phase defined. Remember that in lab 3 we define the refraction wave along interface 1 as `Pv_(interface1)p`. Here, for the reflection wave, there is no `_` (underscore), indicating that the phase bounds back immediately after touching the interface, making it the reflection."
   ]
  },
  {
   "cell_type": "code",
   "execution_count": null,
   "metadata": {},
   "outputs": [],
   "source": [
    "phase = cake.PhaseDef('Pv(interface1)p')"
   ]
  },
  {
   "cell_type": "code",
   "execution_count": null,
   "metadata": {},
   "outputs": [],
   "source": [
    "# save the travel-time\n",
    "x_reflect_cake = [];\n",
    "t_reflect_cake = [];\n",
    "for arrival in model.arrivals(distances, phases=phase, zstart=source_depth):\n",
    "    print('%13g %13g' % (arrival.x*cake.d2m, arrival.t))\n",
    "    x_reflect_cake.append(arrival.x*cake.d2m)\n",
    "    t_reflect_cake.append(arrival.t)"
   ]
  },
  {
   "cell_type": "markdown",
   "metadata": {
    "deletable": false,
    "editable": false,
    "id": "OUnXlbIqj9LN"
   },
   "source": [
    "<!-- BEGIN QUESTION -->\n",
    "\n",
    "📍**Question 1a:** Notice that this is the same subsurface configuration as in the refraction lab. Add the **time-distance curve for the reflected wave to your plot from Lab 3, question 1b** – this should only require a line or two added to your previous code. Make sure to label axes and add a legend. (2 points)"
   ]
  },
  {
   "cell_type": "code",
   "execution_count": null,
   "metadata": {
    "tags": []
   },
   "outputs": [],
   "source": [
    "# Type your answer here, replace \"...\" with your code\n",
    "plt.figure(figsize=(10, 5), dpi=100)\n",
    "plt.plot(..., ...)\n",
    "...\n",
    "plt.show()"
   ]
  },
  {
   "cell_type": "markdown",
   "metadata": {
    "deletable": false,
    "editable": false,
    "id": "NCHc5lN0k9W-"
   },
   "source": [
    "<!-- END QUESTION -->\n",
    "\n",
    "<!-- BEGIN QUESTION -->\n",
    "\n",
    "📍**Question 1b:** Make the geophone spacing 20 m instead of 10 m, copy your code, and rerun. (1 point)"
   ]
  },
  {
   "cell_type": "code",
   "execution_count": null,
   "metadata": {
    "tags": []
   },
   "outputs": [],
   "source": [
    "# Type your answer here, replace \"...\" with your code\n",
    "plt.figure(figsize=(10, 5), dpi=100)\n",
    "plt.plot(..., ...)\n",
    "...\n",
    "plt.show()"
   ]
  },
  {
   "cell_type": "markdown",
   "metadata": {
    "deletable": false,
    "editable": false,
    "id": "VWqDl3wklRyx"
   },
   "source": [
    "<!-- END QUESTION -->\n",
    "\n",
    "Notice that as distance from the shot increases, the arrival times of the direct wave and the reflected wave get closer together. Think about this in terms of a triangle formed by the half of the surface distance from the shot to the geophone (x), the thickness of the layer (h), and the ray path to the boundary layer (r). The layer thickness is constant but increasing the value of x also changes the length of r and the angle of incidence."
   ]
  },
  {
   "cell_type": "markdown",
   "metadata": {
    "deletable": false,
    "editable": false,
    "id": "TtHPMUGNl1Q9"
   },
   "source": [
    "📍**Question 1c:** Explain why the arrival times of the reflected wave approaches that of the direct wave using the diagram above as a template. Clearly reference the ray paths of both direct and reflected waves from the diagram above in your explanation. (1 point)"
   ]
  },
  {
   "cell_type": "markdown",
   "metadata": {},
   "source": [
    "_Type your answer here, replacing this text._"
   ]
  },
  {
   "cell_type": "markdown",
   "metadata": {
    "deletable": false,
    "editable": false,
    "id": "k0ZoaLJVl9Jc"
   },
   "source": [
    "📍**Question 1d:** Explain why travel times of the critically refracted wave are similar to the reflected wave on geophones closer to the shot, but arrive earlier than reflected waves for geophones further from the shot. Again, explain this with clear references to your two plots in a paragraph similar to the one above. Think about the relative distances each ray travels in each material. (1 point)"
   ]
  },
  {
   "cell_type": "markdown",
   "metadata": {},
   "source": [
    "_Type your answer here, replacing this text._"
   ]
  },
  {
   "cell_type": "markdown",
   "metadata": {},
   "source": [
    "---"
   ]
  },
  {
   "cell_type": "markdown",
   "metadata": {
    "deletable": false,
    "editable": false,
    "id": "Q3ts8J9EmLa9"
   },
   "source": [
    "### **Use pyrocko.cake to calculate time-distance curves**\n",
    "\n",
    "📍**Question 2a:** We create a new 3-layer model, each layer is 50 meters thick. Let V1 = 1000 m/s, V2 = 2000 m/s, and V3 = 4000 m/s. Use 50 geophones with 10 meter spacing. Fill in the cake model below and calcuate the travel time. Plot the reflection wave from each interface. Make sure your plot looks like the one below. (2 points)\n",
    " \n",
    " ![](plot_arrivals.png)"
   ]
  },
  {
   "cell_type": "code",
   "execution_count": null,
   "metadata": {
    "tags": []
   },
   "outputs": [],
   "source": [
    "# Type your answer here, replace \"...\" with your code\n",
    "m_layer1 = cake.Material(vp = ...)\n",
    "m_layer2 = cake.Material(vp = ...)\n",
    "m_layer3 = cake.Material(vp = ...)\n",
    "m_layer4 = cake.Material(vp = ...) # does this matter?\n",
    "\n",
    "model = cake.LayeredModel()\n",
    "model.append(cake.Surface(z=0., mbelow=m_layer1))\n",
    "model.append(cake.HomogeneousLayer(0., ..., m_layer1, name='layer1'))\n",
    "model.append(cake.Interface(z=..., mabove=m_layer1, mbelow=m_layer2, name=\"interface1\"))\n",
    "model.append(cake.HomogeneousLayer(..., ..., m_layer2, name='layer2'))\n",
    "model.append(cake.Interface(z=..., mabove=m_layer2, mbelow=m_layer3, name=\"interface2\"))\n",
    "model.append(cake.HomogeneousLayer(..., ..., m_layer3, name='layer3'))\n",
    "model.append(cake.Interface(z=..., mabove=m_layer3, mbelow=m_layer4, name=\"interface3\"))\n",
    "print(model)"
   ]
  },
  {
   "cell_type": "code",
   "execution_count": null,
   "metadata": {},
   "outputs": [],
   "source": [
    "source_depth = 0.01 # in meters\n",
    "distances = np.arange(10, 501, 10) * cake.m2d  # convert meter to degree"
   ]
  },
  {
   "cell_type": "markdown",
   "metadata": {},
   "source": [
    "We calculate the travel time of reflection wave of each interface, separately."
   ]
  },
  {
   "cell_type": "code",
   "execution_count": null,
   "metadata": {},
   "outputs": [],
   "source": [
    "####### reflection of interface 1\n",
    "phase = cake.PhaseDef('Pv(interface1)p')\n",
    "x1_cake = [];\n",
    "t1_reflect_cake = [];\n",
    "for arrival in model.arrivals(distances, phases=phase, zstart=source_depth):\n",
    "    x1_cake.append(arrival.x*cake.d2m)\n",
    "    t1_reflect_cake.append(arrival.t)\n",
    "\n",
    "####### reflection of interface 2\n",
    "phase = cake.PhaseDef('Pv(interface2)p')\n",
    "x2_cake = [];\n",
    "t2_reflect_cake = [];\n",
    "for arrival in model.arrivals(distances, phases=phase, zstart=source_depth):\n",
    "    x2_cake.append(arrival.x*cake.d2m)\n",
    "    t2_reflect_cake.append(arrival.t)\n",
    "\n",
    "####### reflection of interface 3\n",
    "phase = cake.PhaseDef('Pv(interface3)p')\n",
    "x3_cake = [];\n",
    "t3_reflect_cake = [];\n",
    "for arrival in model.arrivals(distances, phases=phase, zstart=source_depth):\n",
    "    x3_cake.append(arrival.x*cake.d2m)\n",
    "    t3_reflect_cake.append(arrival.t)"
   ]
  },
  {
   "cell_type": "code",
   "execution_count": null,
   "metadata": {},
   "outputs": [],
   "source": [
    "plt.figure(figsize=(10, 6), dpi = 100)\n",
    "plt.plot(t1_reflect_cake, x1_cake, linewidth=2)\n",
    "plt.plot(t2_reflect_cake, x2_cake, linewidth=2)\n",
    "plt.plot(t3_reflect_cake, x3_cake, linewidth=2)\n",
    "plt.gca().invert_yaxis()\n",
    "plt.grid(True)\n",
    "plt.xlabel(\"Time (s)\", fontsize = 14)\n",
    "plt.ylabel(\"Distance (m)\", fontsize = 14)"
   ]
  },
  {
   "cell_type": "markdown",
   "metadata": {
    "deletable": false,
    "editable": false,
    "id": "JyjrRRtGm5lp"
   },
   "source": [
    "<!-- BEGIN QUESTION -->\n",
    "\n",
    "📍**Question 2b:** Answer the questions below.\n",
    "\n",
    "1. For the plot above, indicate the layer off which each reflected wave bounces (blue line, orange line, and green line). (1 point)\n",
    "\n",
    "2. On geophones far away from the shot, why does the second reflected wave arrive before the wave reflected off the first layer? (1 point)\n",
    "\n",
    "**For the questions below, remember that if you change the thickness of the first layer, you need to change the depth of layers and interfaces below.**\n",
    "\n",
    "3. If we decrease the thickness of layer 1 to 20 m, how does this affect the arrival times of the first reflected wave? Why? (2 points)\n",
    "\n",
    "4. Change the thickness of the first layer back to 50 m and decrease the thickness of the middle layer to 10 m. How does this affect the arrivals of the second reflected wave? Why?  (2 points)"
   ]
  },
  {
   "cell_type": "markdown",
   "metadata": {},
   "source": [
    "_Type your answer here, replacing this text._"
   ]
  },
  {
   "cell_type": "markdown",
   "metadata": {
    "deletable": false,
    "editable": false,
    "id": "asZqRbXuqkqa"
   },
   "source": [
    "<!-- END QUESTION -->\n",
    "\n",
    "<!-- BEGIN QUESTION -->\n",
    "\n",
    "📍**Question 3:** The basic reflection travel-time equation for a single layer is similar to the equation of a hyperbola:\n",
    "\n",
    "$ 𝑡 = \\dfrac{\\sqrt{x^2+4h_1^2}}{V_1}$ \n",
    "\n",
    "To simplify analysis, square both sides and write it in the form of an equation for a straight line. This is called the $x^2-t^2$ method.\n",
    "\n",
    "Rewrite the reflection travel-time equation in linear form $y=mx +b$ by squaring both sides, expressing $𝑡^2$ as a linear function of $𝑥^2$. Don't worry about rendering it like the equation above. Show your work. (2 points)"
   ]
  },
  {
   "cell_type": "markdown",
   "metadata": {},
   "source": [
    "_Type your answer here, replacing this text._"
   ]
  },
  {
   "cell_type": "markdown",
   "metadata": {
    "deletable": false,
    "editable": false,
    "id": "WMcyx7KKqkZ5"
   },
   "source": [
    "<!-- END QUESTION -->\n",
    "\n",
    "<!-- BEGIN QUESTION -->\n",
    "\n",
    "📍**Question 4:**\n",
    "\n",
    "Calculating the travel time of waves reflected at deeper layers is complicated because those waves are refracted at shallower boundaries. One way to deal with this complication is Green’s Method, which assumes straight-line paths through all boundaries and solves for velocities and thicknesses. This method is illustrated in the figure below.\n",
    "\n",
    "\n",
    "![](funny_rays.png)\n",
    "1. Draw the actual ray paths of the reflected waves on the diagram for each ray path. You can draw this on a piece of paper or by editing a screenshot and submit this to GradeScope with your assignment named `fig_4.png`. (1 point)\n",
    "\n",
    "2. Use your plot to explain below why Green’s Method may not be the most accurate approximation. (1 point)"
   ]
  },
  {
   "cell_type": "markdown",
   "metadata": {},
   "source": [
    "_Type your answer here, replacing this text._"
   ]
  },
  {
   "cell_type": "markdown",
   "metadata": {
    "deletable": false,
    "editable": false,
    "id": "a-aJKGreqj9E"
   },
   "source": [
    "<!-- END QUESTION -->\n",
    "\n",
    "Another way to solve velocities and thicknesses is to use the Dix equation, which uses\n",
    "the root-mean-square velocity ($V_{rms}$). This was covered in lecture."
   ]
  },
  {
   "cell_type": "markdown",
   "metadata": {},
   "source": [
    "---"
   ]
  },
  {
   "cell_type": "markdown",
   "metadata": {
    "id": "XUzr8SUntK_L"
   },
   "source": [
    "### **Modeling the Cascadia subduction zone**\n",
    "\n",
    "The Cascadia Subduction Zone (CSZ), where the Juan De Fuca plate dives beneath the North American plate, runs from northern California to Vancouver Island in Canada. This subduction zone is capable of generating large (>M9.0) earthquakes. Since these earthquakes pose a serious threat to cities and towns along the West Coast, we want to learn as much as we can about the CSZ. Shallower earthquakes can cause much more damage than a deep earthquake of the same  size, so determining the depth of the plate interface, where megathrust earthquakes occur, is important. \n",
    "\n",
    "In an attempt to figure out the depth of the plate interface, a set of 50 geophones spaced 1000 meters apart was set up on the Olympic Peninsula in an east-west trending line. A seismic reflection study recorded P-wave arrivals; the data is in the `SubductionData.txt` file.\n",
    "\n",
    "Here, we load the data using the package called pandas (short name as `pd`)."
   ]
  },
  {
   "cell_type": "code",
   "execution_count": null,
   "metadata": {},
   "outputs": [],
   "source": [
    "df = pd.read_csv(\"./SubductionData.txt\", skiprows=3, names=['RecID', 'x', 't1', 't2', 't3'])\n",
    "df.head() # this function shows the first several rows of the table"
   ]
  },
  {
   "cell_type": "markdown",
   "metadata": {},
   "source": [
    "Still, we define the source and receivers location. "
   ]
  },
  {
   "cell_type": "code",
   "execution_count": null,
   "metadata": {},
   "outputs": [],
   "source": [
    "source_depth = 0.01 # in meters\n",
    "distances = np.linspace(0, 49000) * cake.m2d  # convert meter to degree"
   ]
  },
  {
   "cell_type": "markdown",
   "metadata": {},
   "source": [
    "And we plot the data from this experiment. Let's make it look nice with scatter points. We use `plt.scatter` here since we only have limited and sparse observation from the experiment."
   ]
  },
  {
   "cell_type": "code",
   "execution_count": null,
   "metadata": {},
   "outputs": [],
   "source": [
    "plt.figure(figsize=(10, 6), dpi=100)\n",
    "plt.scatter(df['x'], df['t1'], s=40, label=\"t1\", marker='x', zorder=10)\n",
    "plt.scatter(df['x'], df['t2'], s=40, label=\"t2\", marker='x', zorder=10)\n",
    "plt.scatter(df['x'], df['t3'], s=40, label=\"t3\", marker='x', zorder=10)\n",
    "plt.grid(True)\n",
    "plt.legend(fontsize=14)\n",
    "plt.xlabel(\"Distance (m)\", fontsize=12)\n",
    "plt.ylabel(\"Time (s)\", fontsize=12)"
   ]
  },
  {
   "cell_type": "markdown",
   "metadata": {
    "deletable": false,
    "editable": false,
    "id": "keO4MS3tYDWx"
   },
   "source": [
    "<!-- BEGIN QUESTION -->\n",
    "\n",
    "📍**Question 5:**\n",
    "How many layers (or interfaces) does this reflection study show, judging by the number of reflections? Put your answer as an integer in the variable below. (1 point)"
   ]
  },
  {
   "cell_type": "code",
   "execution_count": null,
   "metadata": {
    "tags": []
   },
   "outputs": [],
   "source": [
    "# Type your answer here, replace \"...\" with your answer, e.g., 3\n",
    "answer_5 = ...\n",
    "answer_5"
   ]
  },
  {
   "cell_type": "code",
   "execution_count": null,
   "metadata": {
    "deletable": false,
    "editable": false
   },
   "outputs": [],
   "source": [
    "grader.check(\"q5\")"
   ]
  },
  {
   "cell_type": "markdown",
   "metadata": {
    "deletable": false,
    "editable": false
   },
   "source": [
    "<!-- END QUESTION -->\n",
    "\n",
    "<!-- BEGIN QUESTION -->\n",
    "\n",
    "📍**Question 6:**\n",
    "\n",
    "1. To analyze these data, we will need to plot the data on an $x^2-t^2$ plot. Modify the code below to show data in $x^2-t^2$ space. (1 point)\n",
    "\n",
    "2. Define a cake model to calculate the travel time of reflection wave off the first interface. It is OK to start with an one-layer model. But note that we don't know the P-wave velocity of the layer, so we need to guess. Here I give you an inital guess of `Vp = 3000 m/s` and `15 km` depth. After you have the travel time of this reflection wave (from your guessed model), add it to the plot below using dashed line `--`. (1 point)\n",
    "\n",
    "3. Does the line fit the observation in terms of the intercept and the slope? What does this suggest about our initial guess of the model? (1 point)\n",
    "\n",
    "4. Based on the equation from Question 3, if you move the line for layer 1 up without changing the slope, do you expect the thickness or velocity of your model to change? Why? (1 point)\n",
    "\n",
    "5. Based on the equation from Question 3, describe how you think changing the slope of the line for layer 1 will affect the thickness or velocity of the layer. (1 point)\n",
    "\n",
    "6. Based on your answer to question c, d, and e, change the parameter of layer 1 (velocity and depth) until it fits the data. It does not need to be perfectly match. (1 point)"
   ]
  },
  {
   "cell_type": "code",
   "execution_count": null,
   "metadata": {
    "tags": []
   },
   "outputs": [],
   "source": [
    "m_layer1 = cake.Material(vp = 3000.)     # layer 1 P-wave velocity\n",
    "m_layer2 = cake.Material(vp = 9999.)     # layer 2 P-wave velocity\n",
    "m_layer3 = cake.Material(vp = 9999.)     # layer 3 P-wave velocity\n",
    "m_layer4 = cake.Material(vp = 9999.)     # layer 4 P-wave velocity\n",
    "\n",
    "d_interface1 = 15000.                    # interface 1 depth in meter\n",
    "d_interface2 = 99999.                    # interface 2 depth in meter\n",
    "d_interface3 = 99999.                    # interface 3 depth in meter\n",
    "\n",
    "########## Change the parameter above ##########\n",
    "\n",
    "########## You don't need to chagne the code below ##########\n",
    "model = cake.LayeredModel()\n",
    "model.append(cake.Surface(z = 0., mbelow = m_layer1))\n",
    "model.append(cake.HomogeneousLayer(0., d_interface1, m_layer1, name='layer1'))\n",
    "model.append(cake.Interface(z = d_interface1, mabove = m_layer1, mbelow = m_layer2, name = \"interface1\"))\n",
    "model.append(cake.HomogeneousLayer(d_interface1, d_interface2, m_layer2, name='layer2'))\n",
    "model.append(cake.Interface(z = d_interface2, mabove = m_layer2, mbelow = m_layer3, name = \"interface2\"))\n",
    "model.append(cake.HomogeneousLayer(d_interface2, d_interface3, m_layer3, name='layer3'))\n",
    "model.append(cake.Interface(z = d_interface3, mabove = m_layer3, mbelow = m_layer4, name = \"interface3\"))\n",
    "\n",
    "phase = cake.PhaseDef('Pv(interface1)p')\n",
    "x1_cake = [];\n",
    "t1_reflect_cake = [];\n",
    "for arrival in model.arrivals(distances, phases=phase, zstart=source_depth):\n",
    "    x1_cake.append(arrival.x*cake.d2m)\n",
    "    t1_reflect_cake.append(arrival.t)\n",
    "x1_cake = np.array(x1_cake)\n",
    "t1_reflect_cake = np.array(t1_reflect_cake)\n",
    "\n",
    "phase = cake.PhaseDef('Pv(interface2)p')\n",
    "x2_cake = [];\n",
    "t2_reflect_cake = [];\n",
    "for arrival in model.arrivals(distances, phases=phase, zstart=source_depth):\n",
    "    x2_cake.append(arrival.x*cake.d2m)\n",
    "    t2_reflect_cake.append(arrival.t)\n",
    "x2_cake = np.array(x2_cake)\n",
    "t2_reflect_cake = np.array(t2_reflect_cake)\n",
    "\n",
    "phase = cake.PhaseDef('Pv(interface3)p')\n",
    "x3_cake = [];\n",
    "t3_reflect_cake = [];\n",
    "for arrival in model.arrivals(distances, phases=phase, zstart=source_depth):\n",
    "    x3_cake.append(arrival.x*cake.d2m)\n",
    "    t3_reflect_cake.append(arrival.t)\n",
    "x3_cake = np.array(x3_cake)\n",
    "t3_reflect_cake = np.array(t3_reflect_cake)"
   ]
  },
  {
   "cell_type": "code",
   "execution_count": null,
   "metadata": {
    "tags": []
   },
   "outputs": [],
   "source": [
    "# Type your answer here, replace \"...\" with your code\n",
    "plt.figure(figsize=(10, 6), dpi=100)\n",
    "plt.scatter(..., ..., s=40, label=\"t1\", marker='x', zorder=10)\n",
    "plt.scatter(..., ..., s=40, label=\"t2\", marker='x', zorder=10)\n",
    "plt.scatter(..., ..., s=40, label=\"t3\", marker='x', zorder=10)\n",
    "\n",
    "plt.plot(..., ..., '--', label='t1_cake')\n",
    "plt.plot(..., ..., '--', label='t2_cake')\n",
    "plt.plot(..., ..., '--', label='t3_cake')\n",
    "\n",
    "plt.grid(True)\n",
    "plt.legend(fontsize=14, loc = 'upper left')\n",
    "plt.xlabel(\"Distance^2 (m^2)\", fontsize=12)\n",
    "plt.ylabel(\"Time^2 (s^2)\", fontsize=12)\n",
    "plt.show()"
   ]
  },
  {
   "cell_type": "markdown",
   "metadata": {
    "deletable": false,
    "editable": false
   },
   "source": [
    "<!-- END QUESTION -->\n",
    "\n",
    "<!-- BEGIN QUESTION -->\n",
    "\n",
    "📍**Question 7:** Keep working on the plot above. \n",
    "\n",
    "1. Once you are happy with the paramemter of the first layer (depth and vp), let's work on fitting the second layer. Add the plot from second layer reflection as dashed line. (1 point)\n",
    "\n",
    "2. Change the parameter of the second layer in various ways. Note that changing the line for the first layer changes the whole model, but that is not the case for the second layer. Explain why this is the case. (1 point)\n",
    "\n",
    "3. Change the parameter of the second layer reflection until it match the data. (1 point)"
   ]
  },
  {
   "cell_type": "markdown",
   "metadata": {},
   "source": [
    "_Type your answer here, replacing this text._"
   ]
  },
  {
   "cell_type": "markdown",
   "metadata": {
    "deletable": false,
    "editable": false
   },
   "source": [
    "<!-- END QUESTION -->\n",
    "\n",
    "<!-- BEGIN QUESTION -->\n",
    "\n",
    "📍**Question 8:** Keep working on the plot above. Once you are happy with the paramemter of the first and the second layer (depth and vp), let's work on fitting the third layer. Add the plot from third layer reflection as dashed line. Change the parameter of the third layer reflection until it match the data. (2 points)"
   ]
  },
  {
   "cell_type": "markdown",
   "metadata": {
    "deletable": false,
    "editable": false,
    "id": "V3VYZxNaatR-"
   },
   "source": [
    "<!-- END QUESTION -->\n",
    "\n",
    "<!-- BEGIN QUESTION -->\n",
    "\n",
    "📍**Question 9:** \n",
    "\n",
    "1. Based on your final model, discuss the section below, indicating where you think the plate interface is. (1 point)\n",
    "\n",
    "2. Write a paragraph about the validity of this section, using the points below to develop your discussion and referencing your diagram and its labels. (2 points)\n",
    "\n",
    "    i. Keep in mind that both the upper plate and the lower plate both have a crust and subsequent mantle beneath, so think about which layer is which using the typical mantle P-wave velocity around 8 km/s.\n",
    "\n",
    "    ii. What, if anything, can you say about the velocity of the deepest layer based on reflection data alone?\n",
    "\n",
    "    iii. Use the table below to determine what types of rocks make up the crusts of the upper and lower plates. Make sure your interpretation makes sense given that crust of the lower plate is oceanic and the crust of the upper plate is continental."
   ]
  },
  {
   "cell_type": "markdown",
   "metadata": {
    "deletable": false,
    "editable": false,
    "id": "9jYrc6JkatMP"
   },
   "source": [
    "| Rock Type      | P wave velocity (m/s) |\n",
    "| ---------------| ----------- |\n",
    "| Sandstone and shale | 2000-4500  |\n",
    "| Limestone | 2000-6000        |\n",
    "| Granite   | 5000-6000     |\n",
    "| Basalt    | 5400-6400      |"
   ]
  },
  {
   "cell_type": "markdown",
   "metadata": {},
   "source": [
    "_Type your answer here, replacing this text._"
   ]
  },
  {
   "cell_type": "markdown",
   "metadata": {
    "deletable": false,
    "editable": false
   },
   "source": [
    "<!-- END QUESTION -->\n",
    "\n"
   ]
  },
  {
   "cell_type": "markdown",
   "metadata": {
    "deletable": false,
    "editable": false
   },
   "source": [
    "## Submission\n",
    "\n",
    "Make sure you have run all cells in your notebook in order before running the cell below, so that all images/graphs appear in the output. The cell below will generate a zip file for you to submit. **Please save before exporting!**\n",
    "\n",
    "These are the lab 4 of ESS 314 Autumn 2023."
   ]
  },
  {
   "cell_type": "code",
   "execution_count": null,
   "metadata": {
    "deletable": false,
    "editable": false
   },
   "outputs": [],
   "source": [
    "# Save your notebook first, then run this cell to export your submission.\n",
    "grader.export(pdf=False, run_tests=True)"
   ]
  },
  {
   "cell_type": "markdown",
   "metadata": {},
   "source": [
    " "
   ]
  }
 ],
 "metadata": {
  "colab": {
   "collapsed_sections": [],
   "name": "Lab4.ipynb",
   "provenance": []
  },
  "kernelspec": {
   "display_name": "ess314",
   "language": "python",
   "name": "ess314"
  },
  "language_info": {
   "codemirror_mode": {
    "name": "ipython",
    "version": 3
   },
   "file_extension": ".py",
   "mimetype": "text/x-python",
   "name": "python",
   "nbconvert_exporter": "python",
   "pygments_lexer": "ipython3",
   "version": "3.8.17"
  },
  "otter": {
   "OK_FORMAT": true,
   "assignment_name": "lab4-ess314",
   "tests": {
    "q5": {
     "name": "q5",
     "points": 1,
     "suites": [
      {
       "cases": [
        {
         "code": ">>> np.issubdtype(type(answer_5), np.number)\nTrue",
         "hidden": false,
         "locked": false
        }
       ],
       "scored": true,
       "setup": "",
       "teardown": "",
       "type": "doctest"
      }
     ]
    }
   }
  }
 },
 "nbformat": 4,
 "nbformat_minor": 1
}
